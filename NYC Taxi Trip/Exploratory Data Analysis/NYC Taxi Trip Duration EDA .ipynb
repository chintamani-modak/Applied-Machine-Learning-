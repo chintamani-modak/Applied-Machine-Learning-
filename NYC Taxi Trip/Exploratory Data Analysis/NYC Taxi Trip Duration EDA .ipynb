{
 "cells": [
  {
   "cell_type": "markdown",
   "metadata": {},
   "source": [
    "## Exploratory Data Analysis on NYC Taxi Trip Duration"
   ]
  },
  {
   "cell_type": "markdown",
   "metadata": {},
   "source": [
    "### Steps involved:\n",
    "1. Importing Necessary libraries\n",
    "2. Importing the dataset\n",
    "3. Exploring the dataset\n",
    "4. Univariate Analysis\n",
    "5. Bivariate Analysis\n",
    "\n",
    "### Business Objective \n",
    "1. Explore the dataset and generate insights from it\n"
   ]
  },
  {
   "cell_type": "markdown",
   "metadata": {},
   "source": [
    "### 1. Importing Necessary Libraries"
   ]
  },
  {
   "cell_type": "code",
   "execution_count": 2,
   "metadata": {},
   "outputs": [
    {
     "name": "stdout",
     "output_type": "stream",
     "text": [
      "Collecting haversine\n",
      "  Downloading haversine-2.5.1-py2.py3-none-any.whl (6.1 kB)\n",
      "Installing collected packages: haversine\n",
      "Successfully installed haversine-2.5.1\n"
     ]
    }
   ],
   "source": [
    "! pip install haversine"
   ]
  },
  {
   "cell_type": "code",
   "execution_count": 3,
   "metadata": {},
   "outputs": [],
   "source": [
    "import pandas as pd\n",
    "import numpy as np\n",
    "import matplotlib.pyplot as plt\n",
    "import seaborn as sns\n",
    "import datetime as dt\n",
    "from scipy import stats\n",
    "from haversine import haversine, Unit\n",
    "from scipy.stats import skew, kurtosis\n",
    "sns.set() \n",
    "%matplotlib inline"
   ]
  },
  {
   "cell_type": "markdown",
   "metadata": {},
   "source": [
    "### 2. Importing the dataset\n"
   ]
  },
  {
   "cell_type": "code",
   "execution_count": 4,
   "metadata": {},
   "outputs": [],
   "source": [
    "# Importing the provided dataset from the data folder.\n",
    "\n",
    "df = pd.read_csv('data/nyc_taxi_trip_duration.csv')"
   ]
  },
  {
   "cell_type": "markdown",
   "metadata": {},
   "source": [
    "### 3. Exploring the dataset"
   ]
  },
  {
   "cell_type": "code",
   "execution_count": 5,
   "metadata": {},
   "outputs": [
    {
     "data": {
      "text/html": [
       "<div>\n",
       "<style scoped>\n",
       "    .dataframe tbody tr th:only-of-type {\n",
       "        vertical-align: middle;\n",
       "    }\n",
       "\n",
       "    .dataframe tbody tr th {\n",
       "        vertical-align: top;\n",
       "    }\n",
       "\n",
       "    .dataframe thead th {\n",
       "        text-align: right;\n",
       "    }\n",
       "</style>\n",
       "<table border=\"1\" class=\"dataframe\">\n",
       "  <thead>\n",
       "    <tr style=\"text-align: right;\">\n",
       "      <th></th>\n",
       "      <th>id</th>\n",
       "      <th>vendor_id</th>\n",
       "      <th>pickup_datetime</th>\n",
       "      <th>dropoff_datetime</th>\n",
       "      <th>passenger_count</th>\n",
       "      <th>pickup_longitude</th>\n",
       "      <th>pickup_latitude</th>\n",
       "      <th>dropoff_longitude</th>\n",
       "      <th>dropoff_latitude</th>\n",
       "      <th>store_and_fwd_flag</th>\n",
       "      <th>trip_duration</th>\n",
       "    </tr>\n",
       "  </thead>\n",
       "  <tbody>\n",
       "    <tr>\n",
       "      <th>0</th>\n",
       "      <td>id1080784</td>\n",
       "      <td>2</td>\n",
       "      <td>2016-02-29 16:40:21</td>\n",
       "      <td>2016-02-29 16:47:01</td>\n",
       "      <td>1</td>\n",
       "      <td>-73.953918</td>\n",
       "      <td>40.778873</td>\n",
       "      <td>-73.963875</td>\n",
       "      <td>40.771164</td>\n",
       "      <td>N</td>\n",
       "      <td>400</td>\n",
       "    </tr>\n",
       "    <tr>\n",
       "      <th>1</th>\n",
       "      <td>id0889885</td>\n",
       "      <td>1</td>\n",
       "      <td>2016-03-11 23:35:37</td>\n",
       "      <td>2016-03-11 23:53:57</td>\n",
       "      <td>2</td>\n",
       "      <td>-73.988312</td>\n",
       "      <td>40.731743</td>\n",
       "      <td>-73.994751</td>\n",
       "      <td>40.694931</td>\n",
       "      <td>N</td>\n",
       "      <td>1100</td>\n",
       "    </tr>\n",
       "    <tr>\n",
       "      <th>2</th>\n",
       "      <td>id0857912</td>\n",
       "      <td>2</td>\n",
       "      <td>2016-02-21 17:59:33</td>\n",
       "      <td>2016-02-21 18:26:48</td>\n",
       "      <td>2</td>\n",
       "      <td>-73.997314</td>\n",
       "      <td>40.721458</td>\n",
       "      <td>-73.948029</td>\n",
       "      <td>40.774918</td>\n",
       "      <td>N</td>\n",
       "      <td>1635</td>\n",
       "    </tr>\n",
       "    <tr>\n",
       "      <th>3</th>\n",
       "      <td>id3744273</td>\n",
       "      <td>2</td>\n",
       "      <td>2016-01-05 09:44:31</td>\n",
       "      <td>2016-01-05 10:03:32</td>\n",
       "      <td>6</td>\n",
       "      <td>-73.961670</td>\n",
       "      <td>40.759720</td>\n",
       "      <td>-73.956779</td>\n",
       "      <td>40.780628</td>\n",
       "      <td>N</td>\n",
       "      <td>1141</td>\n",
       "    </tr>\n",
       "    <tr>\n",
       "      <th>4</th>\n",
       "      <td>id0232939</td>\n",
       "      <td>1</td>\n",
       "      <td>2016-02-17 06:42:23</td>\n",
       "      <td>2016-02-17 06:56:31</td>\n",
       "      <td>1</td>\n",
       "      <td>-74.017120</td>\n",
       "      <td>40.708469</td>\n",
       "      <td>-73.988182</td>\n",
       "      <td>40.740631</td>\n",
       "      <td>N</td>\n",
       "      <td>848</td>\n",
       "    </tr>\n",
       "  </tbody>\n",
       "</table>\n",
       "</div>"
      ],
      "text/plain": [
       "          id  vendor_id      pickup_datetime     dropoff_datetime  \\\n",
       "0  id1080784          2  2016-02-29 16:40:21  2016-02-29 16:47:01   \n",
       "1  id0889885          1  2016-03-11 23:35:37  2016-03-11 23:53:57   \n",
       "2  id0857912          2  2016-02-21 17:59:33  2016-02-21 18:26:48   \n",
       "3  id3744273          2  2016-01-05 09:44:31  2016-01-05 10:03:32   \n",
       "4  id0232939          1  2016-02-17 06:42:23  2016-02-17 06:56:31   \n",
       "\n",
       "   passenger_count  pickup_longitude  pickup_latitude  dropoff_longitude  \\\n",
       "0                1        -73.953918        40.778873         -73.963875   \n",
       "1                2        -73.988312        40.731743         -73.994751   \n",
       "2                2        -73.997314        40.721458         -73.948029   \n",
       "3                6        -73.961670        40.759720         -73.956779   \n",
       "4                1        -74.017120        40.708469         -73.988182   \n",
       "\n",
       "   dropoff_latitude store_and_fwd_flag  trip_duration  \n",
       "0         40.771164                  N            400  \n",
       "1         40.694931                  N           1100  \n",
       "2         40.774918                  N           1635  \n",
       "3         40.780628                  N           1141  \n",
       "4         40.740631                  N            848  "
      ]
     },
     "execution_count": 5,
     "metadata": {},
     "output_type": "execute_result"
    }
   ],
   "source": [
    "# Checking the five first rows of the dataset\n",
    "df.head()"
   ]
  },
  {
   "cell_type": "code",
   "execution_count": 6,
   "metadata": {},
   "outputs": [
    {
     "data": {
      "text/html": [
       "<div>\n",
       "<style scoped>\n",
       "    .dataframe tbody tr th:only-of-type {\n",
       "        vertical-align: middle;\n",
       "    }\n",
       "\n",
       "    .dataframe tbody tr th {\n",
       "        vertical-align: top;\n",
       "    }\n",
       "\n",
       "    .dataframe thead th {\n",
       "        text-align: right;\n",
       "    }\n",
       "</style>\n",
       "<table border=\"1\" class=\"dataframe\">\n",
       "  <thead>\n",
       "    <tr style=\"text-align: right;\">\n",
       "      <th></th>\n",
       "      <th>id</th>\n",
       "      <th>vendor_id</th>\n",
       "      <th>pickup_datetime</th>\n",
       "      <th>dropoff_datetime</th>\n",
       "      <th>passenger_count</th>\n",
       "      <th>pickup_longitude</th>\n",
       "      <th>pickup_latitude</th>\n",
       "      <th>dropoff_longitude</th>\n",
       "      <th>dropoff_latitude</th>\n",
       "      <th>store_and_fwd_flag</th>\n",
       "      <th>trip_duration</th>\n",
       "    </tr>\n",
       "  </thead>\n",
       "  <tbody>\n",
       "    <tr>\n",
       "      <th>729317</th>\n",
       "      <td>id3905982</td>\n",
       "      <td>2</td>\n",
       "      <td>2016-05-21 13:29:38</td>\n",
       "      <td>2016-05-21 13:34:34</td>\n",
       "      <td>2</td>\n",
       "      <td>-73.965919</td>\n",
       "      <td>40.789780</td>\n",
       "      <td>-73.952637</td>\n",
       "      <td>40.789181</td>\n",
       "      <td>N</td>\n",
       "      <td>296</td>\n",
       "    </tr>\n",
       "    <tr>\n",
       "      <th>729318</th>\n",
       "      <td>id0102861</td>\n",
       "      <td>1</td>\n",
       "      <td>2016-02-22 00:43:11</td>\n",
       "      <td>2016-02-22 00:48:26</td>\n",
       "      <td>1</td>\n",
       "      <td>-73.996666</td>\n",
       "      <td>40.737434</td>\n",
       "      <td>-74.001320</td>\n",
       "      <td>40.731911</td>\n",
       "      <td>N</td>\n",
       "      <td>315</td>\n",
       "    </tr>\n",
       "    <tr>\n",
       "      <th>729319</th>\n",
       "      <td>id0439699</td>\n",
       "      <td>1</td>\n",
       "      <td>2016-04-15 18:56:48</td>\n",
       "      <td>2016-04-15 19:08:01</td>\n",
       "      <td>1</td>\n",
       "      <td>-73.997849</td>\n",
       "      <td>40.761696</td>\n",
       "      <td>-74.001488</td>\n",
       "      <td>40.741207</td>\n",
       "      <td>N</td>\n",
       "      <td>673</td>\n",
       "    </tr>\n",
       "    <tr>\n",
       "      <th>729320</th>\n",
       "      <td>id2078912</td>\n",
       "      <td>1</td>\n",
       "      <td>2016-06-19 09:50:47</td>\n",
       "      <td>2016-06-19 09:58:14</td>\n",
       "      <td>1</td>\n",
       "      <td>-74.006706</td>\n",
       "      <td>40.708244</td>\n",
       "      <td>-74.013550</td>\n",
       "      <td>40.713814</td>\n",
       "      <td>N</td>\n",
       "      <td>447</td>\n",
       "    </tr>\n",
       "    <tr>\n",
       "      <th>729321</th>\n",
       "      <td>id1053441</td>\n",
       "      <td>2</td>\n",
       "      <td>2016-01-01 17:24:16</td>\n",
       "      <td>2016-01-01 17:44:40</td>\n",
       "      <td>4</td>\n",
       "      <td>-74.003342</td>\n",
       "      <td>40.743839</td>\n",
       "      <td>-73.945847</td>\n",
       "      <td>40.712841</td>\n",
       "      <td>N</td>\n",
       "      <td>1224</td>\n",
       "    </tr>\n",
       "  </tbody>\n",
       "</table>\n",
       "</div>"
      ],
      "text/plain": [
       "               id  vendor_id      pickup_datetime     dropoff_datetime  \\\n",
       "729317  id3905982          2  2016-05-21 13:29:38  2016-05-21 13:34:34   \n",
       "729318  id0102861          1  2016-02-22 00:43:11  2016-02-22 00:48:26   \n",
       "729319  id0439699          1  2016-04-15 18:56:48  2016-04-15 19:08:01   \n",
       "729320  id2078912          1  2016-06-19 09:50:47  2016-06-19 09:58:14   \n",
       "729321  id1053441          2  2016-01-01 17:24:16  2016-01-01 17:44:40   \n",
       "\n",
       "        passenger_count  pickup_longitude  pickup_latitude  dropoff_longitude  \\\n",
       "729317                2        -73.965919        40.789780         -73.952637   \n",
       "729318                1        -73.996666        40.737434         -74.001320   \n",
       "729319                1        -73.997849        40.761696         -74.001488   \n",
       "729320                1        -74.006706        40.708244         -74.013550   \n",
       "729321                4        -74.003342        40.743839         -73.945847   \n",
       "\n",
       "        dropoff_latitude store_and_fwd_flag  trip_duration  \n",
       "729317         40.789181                  N            296  \n",
       "729318         40.731911                  N            315  \n",
       "729319         40.741207                  N            673  \n",
       "729320         40.713814                  N            447  \n",
       "729321         40.712841                  N           1224  "
      ]
     },
     "execution_count": 6,
     "metadata": {},
     "output_type": "execute_result"
    }
   ],
   "source": [
    "# Checking the last five rows of the dataset\n",
    "df.tail()"
   ]
  },
  {
   "cell_type": "markdown",
   "metadata": {},
   "source": [
    "### 4. Data Analysis"
   ]
  },
  {
   "cell_type": "markdown",
   "metadata": {},
   "source": [
    "In this section we will start analyzing the dataset. We will use several functions and methods to determine the following:\n",
    "\n",
    "- The size of the dataset\n",
    "- The datatypes of each variable (feature)\n",
    "- The number of missing values\n",
    "- The number of unique values per datatype\n",
    "- The number of unique values per feature(variable)\n",
    "- Generate a summary statistics for numerical and non-numerical variables"
   ]
  },
  {
   "cell_type": "markdown",
   "metadata": {},
   "source": [
    "### 4.1 Variable Identification and Datatype"
   ]
  },
  {
   "cell_type": "code",
   "execution_count": 7,
   "metadata": {},
   "outputs": [
    {
     "name": "stdout",
     "output_type": "stream",
     "text": [
      "<class 'pandas.core.frame.DataFrame'>\n",
      "RangeIndex: 729322 entries, 0 to 729321\n",
      "Data columns (total 11 columns):\n",
      " #   Column              Non-Null Count   Dtype  \n",
      "---  ------              --------------   -----  \n",
      " 0   id                  729322 non-null  object \n",
      " 1   vendor_id           729322 non-null  int64  \n",
      " 2   pickup_datetime     729322 non-null  object \n",
      " 3   dropoff_datetime    729322 non-null  object \n",
      " 4   passenger_count     729322 non-null  int64  \n",
      " 5   pickup_longitude    729322 non-null  float64\n",
      " 6   pickup_latitude     729322 non-null  float64\n",
      " 7   dropoff_longitude   729322 non-null  float64\n",
      " 8   dropoff_latitude    729322 non-null  float64\n",
      " 9   store_and_fwd_flag  729322 non-null  object \n",
      " 10  trip_duration       729322 non-null  int64  \n",
      "dtypes: float64(4), int64(3), object(4)\n",
      "memory usage: 61.2+ MB\n"
     ]
    }
   ],
   "source": [
    "# Using df.info to start analyzing the variables of the dataset\n",
    "\n",
    "df.info()"
   ]
  },
  {
   "cell_type": "markdown",
   "metadata": {},
   "source": [
    "After running the .info() method we can determine following:\n",
    "\n",
    "- The data set has 729,322 rows (entries) and 11 columns (features)\n",
    "- The datatypes of these variables are (4) four floats, (3) three integers, and (4) four objects\n",
    "- The dataset has no null values\n",
    "- The dataset has two features 'pickup_datetime' and 'dropoff_datetime' as a datatype of \"object\". We should change the datatype of these variables to \"datetime\" datatype.\n",
    "- Once we have changed the datatype of the pickup_datetime and dropoff_datetime variables we can create additional features for this dataset.\n",
    "- The features pickup_longitude, pickup_latitude, dropoff_longitude, dropoff_latitude can be used to create a new feature. This feature will contain the distance of each trip.\n",
    "- Finally, we can state that we have 10 independent variables and 1 dependent variable that we will call the Target Variable"
   ]
  },
  {
   "cell_type": "markdown",
   "metadata": {},
   "source": [
    "### Checking for Null values"
   ]
  },
  {
   "cell_type": "code",
   "execution_count": 9,
   "metadata": {},
   "outputs": [
    {
     "data": {
      "text/plain": [
       "id                    0\n",
       "vendor_id             0\n",
       "pickup_datetime       0\n",
       "dropoff_datetime      0\n",
       "passenger_count       0\n",
       "pickup_longitude      0\n",
       "pickup_latitude       0\n",
       "dropoff_longitude     0\n",
       "dropoff_latitude      0\n",
       "store_and_fwd_flag    0\n",
       "trip_duration         0\n",
       "dtype: int64"
      ]
     },
     "execution_count": 9,
     "metadata": {},
     "output_type": "execute_result"
    }
   ],
   "source": [
    "# Getting the unique values for each variable\n",
    "df.isnull().sum()"
   ]
  },
  {
   "cell_type": "markdown",
   "metadata": {},
   "source": [
    "After using .isnull.sum() we can safely conclude that there are no missing values."
   ]
  },
  {
   "cell_type": "markdown",
   "metadata": {},
   "source": [
    "### Checking for Unique Values"
   ]
  },
  {
   "cell_type": "code",
   "execution_count": 12,
   "metadata": {},
   "outputs": [
    {
     "data": {
      "text/plain": [
       "id                    729322\n",
       "vendor_id                  2\n",
       "pickup_datetime       709359\n",
       "dropoff_datetime      709308\n",
       "passenger_count            9\n",
       "pickup_longitude       19729\n",
       "pickup_latitude        39776\n",
       "dropoff_longitude      27892\n",
       "dropoff_latitude       53579\n",
       "store_and_fwd_flag         2\n",
       "trip_duration           6296\n",
       "dtype: int64"
      ]
     },
     "execution_count": 12,
     "metadata": {},
     "output_type": "execute_result"
    }
   ],
   "source": [
    "# Unique values\n",
    "df.nunique()"
   ]
  },
  {
   "cell_type": "markdown",
   "metadata": {},
   "source": [
    "After using the .nunique() method we can state the following:\n",
    "\n",
    "- There are no duplicate values in the id column.\n",
    "- There are only two vendors. 1 or 2\n",
    "- There are only two values for store_and_fwd_flag column. Which we now it is \"Y\" or \"N\""
   ]
  },
  {
   "cell_type": "markdown",
   "metadata": {},
   "source": [
    "### Summary Statsics for Numerical Variables"
   ]
  },
  {
   "cell_type": "code",
   "execution_count": 14,
   "metadata": {},
   "outputs": [
    {
     "data": {
      "text/html": [
       "<div>\n",
       "<style scoped>\n",
       "    .dataframe tbody tr th:only-of-type {\n",
       "        vertical-align: middle;\n",
       "    }\n",
       "\n",
       "    .dataframe tbody tr th {\n",
       "        vertical-align: top;\n",
       "    }\n",
       "\n",
       "    .dataframe thead th {\n",
       "        text-align: right;\n",
       "    }\n",
       "</style>\n",
       "<table border=\"1\" class=\"dataframe\">\n",
       "  <thead>\n",
       "    <tr style=\"text-align: right;\">\n",
       "      <th></th>\n",
       "      <th>vendor_id</th>\n",
       "      <th>passenger_count</th>\n",
       "      <th>pickup_longitude</th>\n",
       "      <th>pickup_latitude</th>\n",
       "      <th>dropoff_longitude</th>\n",
       "      <th>dropoff_latitude</th>\n",
       "      <th>trip_duration</th>\n",
       "    </tr>\n",
       "  </thead>\n",
       "  <tbody>\n",
       "    <tr>\n",
       "      <th>count</th>\n",
       "      <td>729322.000000</td>\n",
       "      <td>729322.000000</td>\n",
       "      <td>729322.000000</td>\n",
       "      <td>729322.000000</td>\n",
       "      <td>729322.000000</td>\n",
       "      <td>729322.000000</td>\n",
       "      <td>7.293220e+05</td>\n",
       "    </tr>\n",
       "    <tr>\n",
       "      <th>mean</th>\n",
       "      <td>1.535403</td>\n",
       "      <td>1.662055</td>\n",
       "      <td>-73.973513</td>\n",
       "      <td>40.750919</td>\n",
       "      <td>-73.973422</td>\n",
       "      <td>40.751775</td>\n",
       "      <td>9.522291e+02</td>\n",
       "    </tr>\n",
       "    <tr>\n",
       "      <th>std</th>\n",
       "      <td>0.498745</td>\n",
       "      <td>1.312446</td>\n",
       "      <td>0.069754</td>\n",
       "      <td>0.033594</td>\n",
       "      <td>0.069588</td>\n",
       "      <td>0.036037</td>\n",
       "      <td>3.864626e+03</td>\n",
       "    </tr>\n",
       "    <tr>\n",
       "      <th>min</th>\n",
       "      <td>1.000000</td>\n",
       "      <td>0.000000</td>\n",
       "      <td>-121.933342</td>\n",
       "      <td>34.712234</td>\n",
       "      <td>-121.933304</td>\n",
       "      <td>32.181141</td>\n",
       "      <td>1.000000e+00</td>\n",
       "    </tr>\n",
       "    <tr>\n",
       "      <th>25%</th>\n",
       "      <td>1.000000</td>\n",
       "      <td>1.000000</td>\n",
       "      <td>-73.991859</td>\n",
       "      <td>40.737335</td>\n",
       "      <td>-73.991318</td>\n",
       "      <td>40.735931</td>\n",
       "      <td>3.970000e+02</td>\n",
       "    </tr>\n",
       "    <tr>\n",
       "      <th>50%</th>\n",
       "      <td>2.000000</td>\n",
       "      <td>1.000000</td>\n",
       "      <td>-73.981758</td>\n",
       "      <td>40.754070</td>\n",
       "      <td>-73.979759</td>\n",
       "      <td>40.754509</td>\n",
       "      <td>6.630000e+02</td>\n",
       "    </tr>\n",
       "    <tr>\n",
       "      <th>75%</th>\n",
       "      <td>2.000000</td>\n",
       "      <td>2.000000</td>\n",
       "      <td>-73.967361</td>\n",
       "      <td>40.768314</td>\n",
       "      <td>-73.963036</td>\n",
       "      <td>40.769741</td>\n",
       "      <td>1.075000e+03</td>\n",
       "    </tr>\n",
       "    <tr>\n",
       "      <th>max</th>\n",
       "      <td>2.000000</td>\n",
       "      <td>9.000000</td>\n",
       "      <td>-65.897385</td>\n",
       "      <td>51.881084</td>\n",
       "      <td>-65.897385</td>\n",
       "      <td>43.921028</td>\n",
       "      <td>1.939736e+06</td>\n",
       "    </tr>\n",
       "  </tbody>\n",
       "</table>\n",
       "</div>"
      ],
      "text/plain": [
       "           vendor_id  passenger_count  pickup_longitude  pickup_latitude  \\\n",
       "count  729322.000000    729322.000000     729322.000000    729322.000000   \n",
       "mean        1.535403         1.662055        -73.973513        40.750919   \n",
       "std         0.498745         1.312446          0.069754         0.033594   \n",
       "min         1.000000         0.000000       -121.933342        34.712234   \n",
       "25%         1.000000         1.000000        -73.991859        40.737335   \n",
       "50%         2.000000         1.000000        -73.981758        40.754070   \n",
       "75%         2.000000         2.000000        -73.967361        40.768314   \n",
       "max         2.000000         9.000000        -65.897385        51.881084   \n",
       "\n",
       "       dropoff_longitude  dropoff_latitude  trip_duration  \n",
       "count      729322.000000     729322.000000   7.293220e+05  \n",
       "mean          -73.973422         40.751775   9.522291e+02  \n",
       "std             0.069588          0.036037   3.864626e+03  \n",
       "min          -121.933304         32.181141   1.000000e+00  \n",
       "25%           -73.991318         40.735931   3.970000e+02  \n",
       "50%           -73.979759         40.754509   6.630000e+02  \n",
       "75%           -73.963036         40.769741   1.075000e+03  \n",
       "max           -65.897385         43.921028   1.939736e+06  "
      ]
     },
     "execution_count": 14,
     "metadata": {},
     "output_type": "execute_result"
    }
   ],
   "source": [
    "df.describe ()"
   ]
  },
  {
   "cell_type": "markdown",
   "metadata": {},
   "source": [
    "After using the .describe() method we can determine the following:\n",
    "\n",
    "- Reiterate that there are no null values in the numerical variables.\n",
    "- The vendor_id column appears to only have two values, which means that there might be only two vendors.\n",
    "- The passenger_count allow us to determine that most of the taxi trips include 1 -2 passangers. The max number of passenger is 9. We will need to check for the presence of outliers when we conduct our univariate analysis.\n",
    "- The trip_duration column provides us the duration of each trip in seconds. We will analyze this column seperately to see if we see any outliers."
   ]
  },
  {
   "cell_type": "markdown",
   "metadata": {},
   "source": [
    "### Summary Statistics for Non-Numerical Variable"
   ]
  },
  {
   "cell_type": "code",
   "execution_count": 16,
   "metadata": {},
   "outputs": [
    {
     "data": {
      "text/html": [
       "<div>\n",
       "<style scoped>\n",
       "    .dataframe tbody tr th:only-of-type {\n",
       "        vertical-align: middle;\n",
       "    }\n",
       "\n",
       "    .dataframe tbody tr th {\n",
       "        vertical-align: top;\n",
       "    }\n",
       "\n",
       "    .dataframe thead th {\n",
       "        text-align: right;\n",
       "    }\n",
       "</style>\n",
       "<table border=\"1\" class=\"dataframe\">\n",
       "  <thead>\n",
       "    <tr style=\"text-align: right;\">\n",
       "      <th></th>\n",
       "      <th>id</th>\n",
       "      <th>pickup_datetime</th>\n",
       "      <th>dropoff_datetime</th>\n",
       "      <th>store_and_fwd_flag</th>\n",
       "    </tr>\n",
       "  </thead>\n",
       "  <tbody>\n",
       "    <tr>\n",
       "      <th>count</th>\n",
       "      <td>729322</td>\n",
       "      <td>729322</td>\n",
       "      <td>729322</td>\n",
       "      <td>729322</td>\n",
       "    </tr>\n",
       "    <tr>\n",
       "      <th>unique</th>\n",
       "      <td>729322</td>\n",
       "      <td>709359</td>\n",
       "      <td>709308</td>\n",
       "      <td>2</td>\n",
       "    </tr>\n",
       "    <tr>\n",
       "      <th>top</th>\n",
       "      <td>id2090507</td>\n",
       "      <td>2016-05-20 09:03:18</td>\n",
       "      <td>2016-01-15 20:27:47</td>\n",
       "      <td>N</td>\n",
       "    </tr>\n",
       "    <tr>\n",
       "      <th>freq</th>\n",
       "      <td>1</td>\n",
       "      <td>4</td>\n",
       "      <td>4</td>\n",
       "      <td>725282</td>\n",
       "    </tr>\n",
       "  </tbody>\n",
       "</table>\n",
       "</div>"
      ],
      "text/plain": [
       "               id      pickup_datetime     dropoff_datetime store_and_fwd_flag\n",
       "count      729322               729322               729322             729322\n",
       "unique     729322               709359               709308                  2\n",
       "top     id2090507  2016-05-20 09:03:18  2016-01-15 20:27:47                  N\n",
       "freq            1                    4                    4             725282"
      ]
     },
     "execution_count": 16,
     "metadata": {},
     "output_type": "execute_result"
    }
   ],
   "source": [
    "df.describe (include=object)"
   ]
  },
  {
   "cell_type": "markdown",
   "metadata": {},
   "source": [
    "After using the .describe() method on non-numerical variables we can determine the following:\n",
    "\n",
    "- There are no null values on the non-numerical columns.\n",
    "- The id column shows a frequency of 1, meaning that they are unique values."
   ]
  },
  {
   "cell_type": "markdown",
   "metadata": {},
   "source": [
    "### 4.2 Converting Features to the right Datatype"
   ]
  },
  {
   "cell_type": "markdown",
   "metadata": {},
   "source": [
    "In this section we will convert the pickup_datetime and dropoff_datetimeto the DataTime datatype. The conversion of these two features to the right datatype will allow us to get a new features using the datetime library."
   ]
  },
  {
   "cell_type": "code",
   "execution_count": 17,
   "metadata": {},
   "outputs": [],
   "source": [
    "# Changing the pickup_datetime and dropoff_datetime from object to datetime datatype\n",
    "\n",
    "df['pickup_datetime']=pd.to_datetime(df['pickup_datetime'])\n",
    "df['dropoff_datetime']=pd.to_datetime(df['dropoff_datetime'])"
   ]
  },
  {
   "cell_type": "code",
   "execution_count": 18,
   "metadata": {},
   "outputs": [
    {
     "name": "stdout",
     "output_type": "stream",
     "text": [
      "datetime64[ns]\n",
      "datetime64[ns]\n"
     ]
    }
   ],
   "source": [
    "# Checking to new datatype for pickup_datetime and dropoff_datetime\n",
    "\n",
    "print(df['pickup_datetime'].dtypes)\n",
    "print(df['dropoff_datetime'].dtypes)"
   ]
  },
  {
   "cell_type": "markdown",
   "metadata": {},
   "source": [
    "### 4.3 Creating New Features"
   ]
  },
  {
   "cell_type": "markdown",
   "metadata": {},
   "source": [
    "Here, we will be creating new features form existing ones. The features that we will be creating are:\n",
    "\n",
    "- Create new features using the pickup_datetime and dropoff_datetime columns.\n",
    "- Create a new feature called distance using the pickup_longitude, pickup_latitude dropoff_longitude, and the dropoff_latitude.\n",
    "- Create a new feature called average_speed using the distance and trip_duration."
   ]
  },
  {
   "cell_type": "markdown",
   "metadata": {},
   "source": [
    "### 4.3.1 Creating Features based on Date and Time"
   ]
  },
  {
   "cell_type": "markdown",
   "metadata": {},
   "source": [
    "In this section we will be creating eight (8) new feature using the pickup_datetime and dropoff_datetime"
   ]
  },
  {
   "cell_type": "code",
   "execution_count": 19,
   "metadata": {},
   "outputs": [],
   "source": [
    "# Creating features based on month\n",
    "\n",
    "df['pickup_by_month'] = df['pickup_datetime'].dt.month\n",
    "df['dropoff_by_month'] = df['dropoff_datetime'].dt.month"
   ]
  },
  {
   "cell_type": "code",
   "execution_count": 20,
   "metadata": {},
   "outputs": [],
   "source": [
    "# Creating features based on weekday\n",
    "\n",
    "df['pickup_by_weekday'] = df['pickup_datetime'].dt.weekday\n",
    "df['dropoff_by_weekday'] = df['dropoff_datetime'].dt.weekday"
   ]
  },
  {
   "cell_type": "code",
   "execution_count": 21,
   "metadata": {},
   "outputs": [],
   "source": [
    "# Creating features based on day\n",
    "\n",
    "df['pickup_by_day'] = df['pickup_datetime'].dt.day_name()\n",
    "df['dropoff_by_day'] = df['dropoff_datetime'].dt.day_name()"
   ]
  },
  {
   "cell_type": "code",
   "execution_count": 22,
   "metadata": {},
   "outputs": [],
   "source": [
    "# Creating features based on Hour\n",
    "\n",
    "df['pickup_by_hour'] = df['pickup_datetime'].dt.hour\n",
    "df['dropoff_by_hour'] = df['dropoff_datetime'].dt.hour"
   ]
  },
  {
   "cell_type": "markdown",
   "metadata": {},
   "source": [
    "Now that we have the pickup time and the dropoff time we can determine the part of the day they fall into. As we know the day is divied in four parts. These parts are:\n",
    "\n",
    "- Morning, which starts at 6:01 am and ends at 12:oopm\n",
    "- Afternoon, which starts at 12:01 pm and ends at 18:00pm\n",
    "- Evening, which starts at 18:01 and ends at 21:00pm\n",
    "- Night, which start at 21:01 and ends at 6:00am"
   ]
  },
  {
   "cell_type": "code",
   "execution_count": 24,
   "metadata": {},
   "outputs": [],
   "source": [
    "def part_of_day (time):\n",
    "    if time in range (6,12):\n",
    "        return \"Morning\"\n",
    "    elif time in range (12,18):\n",
    "        return \"Afternoon\"\n",
    "    elif time in range (18,21):\n",
    "        return \"Evening\"\n",
    "    else:\n",
    "        return \"Night\""
   ]
  },
  {
   "cell_type": "code",
   "execution_count": 25,
   "metadata": {},
   "outputs": [],
   "source": [
    "# Creating two new features called pickup_part_of_day and dropoff_part_of_day.\n",
    "\n",
    "df['pickup_part_of_day']=df['pickup_by_hour'].apply(part_of_day)\n",
    "df['dropoff_part_of_day']=df['dropoff_by_hour'].apply(part_of_day)"
   ]
  },
  {
   "cell_type": "code",
   "execution_count": 26,
   "metadata": {},
   "outputs": [
    {
     "data": {
      "text/html": [
       "<div>\n",
       "<style scoped>\n",
       "    .dataframe tbody tr th:only-of-type {\n",
       "        vertical-align: middle;\n",
       "    }\n",
       "\n",
       "    .dataframe tbody tr th {\n",
       "        vertical-align: top;\n",
       "    }\n",
       "\n",
       "    .dataframe thead th {\n",
       "        text-align: right;\n",
       "    }\n",
       "</style>\n",
       "<table border=\"1\" class=\"dataframe\">\n",
       "  <thead>\n",
       "    <tr style=\"text-align: right;\">\n",
       "      <th></th>\n",
       "      <th>pickup_part_of_day</th>\n",
       "      <th>dropoff_part_of_day</th>\n",
       "    </tr>\n",
       "  </thead>\n",
       "  <tbody>\n",
       "    <tr>\n",
       "      <th>0</th>\n",
       "      <td>Afternoon</td>\n",
       "      <td>Afternoon</td>\n",
       "    </tr>\n",
       "    <tr>\n",
       "      <th>1</th>\n",
       "      <td>Night</td>\n",
       "      <td>Night</td>\n",
       "    </tr>\n",
       "    <tr>\n",
       "      <th>2</th>\n",
       "      <td>Afternoon</td>\n",
       "      <td>Evening</td>\n",
       "    </tr>\n",
       "    <tr>\n",
       "      <th>3</th>\n",
       "      <td>Morning</td>\n",
       "      <td>Morning</td>\n",
       "    </tr>\n",
       "    <tr>\n",
       "      <th>4</th>\n",
       "      <td>Morning</td>\n",
       "      <td>Morning</td>\n",
       "    </tr>\n",
       "  </tbody>\n",
       "</table>\n",
       "</div>"
      ],
      "text/plain": [
       "  pickup_part_of_day dropoff_part_of_day\n",
       "0          Afternoon           Afternoon\n",
       "1              Night               Night\n",
       "2          Afternoon             Evening\n",
       "3            Morning             Morning\n",
       "4            Morning             Morning"
      ]
     },
     "execution_count": 26,
     "metadata": {},
     "output_type": "execute_result"
    }
   ],
   "source": [
    "# Check to see if the formula has been applied correctly \n",
    "\n",
    "df[['pickup_part_of_day','dropoff_part_of_day']].head()"
   ]
  },
  {
   "cell_type": "markdown",
   "metadata": {},
   "source": [
    "### 4.3.2 Creating a feature based on Location"
   ]
  },
  {
   "cell_type": "markdown",
   "metadata": {},
   "source": [
    "- In this section we will use the pickup_longitude, pickup_latitude, dropoff_longitude, and the dropoff_latitude to create a new feature named distance. \n",
    "- We will use the Haversine python library to calculate the distance (in miles) between the pickup coordinance and the dropoff coordinance."
   ]
  },
  {
   "cell_type": "code",
   "execution_count": 27,
   "metadata": {},
   "outputs": [
    {
     "data": {
      "text/plain": [
       "0.7450687743487803"
      ]
     },
     "execution_count": 27,
     "metadata": {},
     "output_type": "execute_result"
    }
   ],
   "source": [
    "point_a = (40.778873, -73.953918) # (lat, lon)\n",
    "point_b = (40.771164, -73.963875)\n",
    "haversine(point_a, point_b, unit=Unit.MILES)"
   ]
  },
  {
   "cell_type": "code",
   "execution_count": 28,
   "metadata": {},
   "outputs": [],
   "source": [
    "# Create a function to determine the distance between two coordinate\n",
    "def trip_distance(pickup_latitude,pickup_longitude, dropoff_latitude,dropoff_longitude):\n",
    "    start_coo = (pickup_latitude,pickup_longitude)\n",
    "    finish_coo = (dropoff_latitude,dropoff_longitude)\n",
    "    \n",
    "    return haversine(start_coo,finish_coo, unit=Unit.MILES)"
   ]
  },
  {
   "cell_type": "code",
   "execution_count": 29,
   "metadata": {},
   "outputs": [],
   "source": [
    "df['distance'] = df.apply(lambda x: trip_distance(x['pickup_latitude'],x['pickup_longitude'],x['dropoff_latitude'],x['dropoff_longitude']), axis=1)"
   ]
  },
  {
   "cell_type": "code",
   "execution_count": 30,
   "metadata": {},
   "outputs": [
    {
     "data": {
      "text/plain": [
       "0    0.745070\n",
       "1    2.565714\n",
       "2    4.505415\n",
       "3    1.467120\n",
       "4    2.689630\n",
       "Name: distance, dtype: float64"
      ]
     },
     "execution_count": 30,
     "metadata": {},
     "output_type": "execute_result"
    }
   ],
   "source": [
    "# Checking to see that distance has been calculated\n",
    "df['distance'].head()"
   ]
  },
  {
   "cell_type": "code",
   "execution_count": 31,
   "metadata": {},
   "outputs": [],
   "source": [
    "# Creatring the speed feature using the formula (s = d/t) <- Given in Miles per Hour\n",
    "\n",
    "df['average_speed'] = df['distance']/(df['trip_duration']/3600)"
   ]
  },
  {
   "cell_type": "code",
   "execution_count": 32,
   "metadata": {},
   "outputs": [
    {
     "data": {
      "text/plain": [
       "0     6.7056\n",
       "1     8.3969\n",
       "2     9.9202\n",
       "3     4.6289\n",
       "4    11.4182\n",
       "Name: average_speed, dtype: float64"
      ]
     },
     "execution_count": 32,
     "metadata": {},
     "output_type": "execute_result"
    }
   ],
   "source": [
    "df['average_speed'].head().round(4)"
   ]
  },
  {
   "cell_type": "markdown",
   "metadata": {},
   "source": [
    "### 4.3.3 Checking New features created "
   ]
  },
  {
   "cell_type": "markdown",
   "metadata": {},
   "source": [
    "Now that we have finished creating the new features it is recommended to see the update dataframe df"
   ]
  },
  {
   "cell_type": "code",
   "execution_count": 34,
   "metadata": {},
   "outputs": [
    {
     "data": {
      "text/html": [
       "<div>\n",
       "<style scoped>\n",
       "    .dataframe tbody tr th:only-of-type {\n",
       "        vertical-align: middle;\n",
       "    }\n",
       "\n",
       "    .dataframe tbody tr th {\n",
       "        vertical-align: top;\n",
       "    }\n",
       "\n",
       "    .dataframe thead th {\n",
       "        text-align: right;\n",
       "    }\n",
       "</style>\n",
       "<table border=\"1\" class=\"dataframe\">\n",
       "  <thead>\n",
       "    <tr style=\"text-align: right;\">\n",
       "      <th></th>\n",
       "      <th>pickup_by_month</th>\n",
       "      <th>dropoff_by_month</th>\n",
       "      <th>pickup_by_weekday</th>\n",
       "      <th>dropoff_by_weekday</th>\n",
       "      <th>pickup_by_day</th>\n",
       "      <th>dropoff_by_day</th>\n",
       "      <th>pickup_by_hour</th>\n",
       "      <th>dropoff_by_hour</th>\n",
       "      <th>pickup_part_of_day</th>\n",
       "      <th>dropoff_part_of_day</th>\n",
       "      <th>distance</th>\n",
       "      <th>average_speed</th>\n",
       "    </tr>\n",
       "  </thead>\n",
       "  <tbody>\n",
       "    <tr>\n",
       "      <th>0</th>\n",
       "      <td>2</td>\n",
       "      <td>2</td>\n",
       "      <td>0</td>\n",
       "      <td>0</td>\n",
       "      <td>Monday</td>\n",
       "      <td>Monday</td>\n",
       "      <td>16</td>\n",
       "      <td>16</td>\n",
       "      <td>Afternoon</td>\n",
       "      <td>Afternoon</td>\n",
       "      <td>0.745070</td>\n",
       "      <td>6.705632</td>\n",
       "    </tr>\n",
       "    <tr>\n",
       "      <th>1</th>\n",
       "      <td>3</td>\n",
       "      <td>3</td>\n",
       "      <td>4</td>\n",
       "      <td>4</td>\n",
       "      <td>Friday</td>\n",
       "      <td>Friday</td>\n",
       "      <td>23</td>\n",
       "      <td>23</td>\n",
       "      <td>Night</td>\n",
       "      <td>Night</td>\n",
       "      <td>2.565714</td>\n",
       "      <td>8.396883</td>\n",
       "    </tr>\n",
       "    <tr>\n",
       "      <th>2</th>\n",
       "      <td>2</td>\n",
       "      <td>2</td>\n",
       "      <td>6</td>\n",
       "      <td>6</td>\n",
       "      <td>Sunday</td>\n",
       "      <td>Sunday</td>\n",
       "      <td>17</td>\n",
       "      <td>18</td>\n",
       "      <td>Afternoon</td>\n",
       "      <td>Evening</td>\n",
       "      <td>4.505415</td>\n",
       "      <td>9.920180</td>\n",
       "    </tr>\n",
       "    <tr>\n",
       "      <th>3</th>\n",
       "      <td>1</td>\n",
       "      <td>1</td>\n",
       "      <td>1</td>\n",
       "      <td>1</td>\n",
       "      <td>Tuesday</td>\n",
       "      <td>Tuesday</td>\n",
       "      <td>9</td>\n",
       "      <td>10</td>\n",
       "      <td>Morning</td>\n",
       "      <td>Morning</td>\n",
       "      <td>1.467120</td>\n",
       "      <td>4.628950</td>\n",
       "    </tr>\n",
       "    <tr>\n",
       "      <th>4</th>\n",
       "      <td>2</td>\n",
       "      <td>2</td>\n",
       "      <td>2</td>\n",
       "      <td>2</td>\n",
       "      <td>Wednesday</td>\n",
       "      <td>Wednesday</td>\n",
       "      <td>6</td>\n",
       "      <td>6</td>\n",
       "      <td>Morning</td>\n",
       "      <td>Morning</td>\n",
       "      <td>2.689630</td>\n",
       "      <td>11.418240</td>\n",
       "    </tr>\n",
       "  </tbody>\n",
       "</table>\n",
       "</div>"
      ],
      "text/plain": [
       "   pickup_by_month  dropoff_by_month  pickup_by_weekday  dropoff_by_weekday  \\\n",
       "0                2                 2                  0                   0   \n",
       "1                3                 3                  4                   4   \n",
       "2                2                 2                  6                   6   \n",
       "3                1                 1                  1                   1   \n",
       "4                2                 2                  2                   2   \n",
       "\n",
       "  pickup_by_day dropoff_by_day  pickup_by_hour  dropoff_by_hour  \\\n",
       "0        Monday         Monday              16               16   \n",
       "1        Friday         Friday              23               23   \n",
       "2        Sunday         Sunday              17               18   \n",
       "3       Tuesday        Tuesday               9               10   \n",
       "4     Wednesday      Wednesday               6                6   \n",
       "\n",
       "  pickup_part_of_day dropoff_part_of_day  distance  average_speed  \n",
       "0          Afternoon           Afternoon  0.745070       6.705632  \n",
       "1              Night               Night  2.565714       8.396883  \n",
       "2          Afternoon             Evening  4.505415       9.920180  \n",
       "3            Morning             Morning  1.467120       4.628950  \n",
       "4            Morning             Morning  2.689630      11.418240  "
      ]
     },
     "execution_count": 34,
     "metadata": {},
     "output_type": "execute_result"
    }
   ],
   "source": [
    " # Display the first five rows\n",
    "\n",
    "df[['pickup_by_month','dropoff_by_month','pickup_by_weekday', 'dropoff_by_weekday','pickup_by_day','dropoff_by_day','pickup_by_hour','dropoff_by_hour','pickup_part_of_day','dropoff_part_of_day','distance','average_speed']].head()\n"
   ]
  },
  {
   "cell_type": "code",
   "execution_count": 35,
   "metadata": {},
   "outputs": [
    {
     "data": {
      "text/plain": [
       "id                     0\n",
       "vendor_id              0\n",
       "pickup_datetime        0\n",
       "dropoff_datetime       0\n",
       "passenger_count        0\n",
       "pickup_longitude       0\n",
       "pickup_latitude        0\n",
       "dropoff_longitude      0\n",
       "dropoff_latitude       0\n",
       "store_and_fwd_flag     0\n",
       "trip_duration          0\n",
       "pickup_by_month        0\n",
       "dropoff_by_month       0\n",
       "pickup_by_weekday      0\n",
       "dropoff_by_weekday     0\n",
       "pickup_by_day          0\n",
       "dropoff_by_day         0\n",
       "pickup_by_hour         0\n",
       "dropoff_by_hour        0\n",
       "pickup_part_of_day     0\n",
       "dropoff_part_of_day    0\n",
       "distance               0\n",
       "average_speed          0\n",
       "dtype: int64"
      ]
     },
     "execution_count": 35,
     "metadata": {},
     "output_type": "execute_result"
    }
   ],
   "source": [
    "# Check to see that there are no missing values\n",
    "df.isnull().sum()"
   ]
  },
  {
   "cell_type": "code",
   "execution_count": 36,
   "metadata": {},
   "outputs": [
    {
     "data": {
      "text/html": [
       "<div>\n",
       "<style scoped>\n",
       "    .dataframe tbody tr th:only-of-type {\n",
       "        vertical-align: middle;\n",
       "    }\n",
       "\n",
       "    .dataframe tbody tr th {\n",
       "        vertical-align: top;\n",
       "    }\n",
       "\n",
       "    .dataframe thead th {\n",
       "        text-align: right;\n",
       "    }\n",
       "</style>\n",
       "<table border=\"1\" class=\"dataframe\">\n",
       "  <thead>\n",
       "    <tr style=\"text-align: right;\">\n",
       "      <th></th>\n",
       "      <th>vendor_id</th>\n",
       "      <th>passenger_count</th>\n",
       "      <th>pickup_longitude</th>\n",
       "      <th>pickup_latitude</th>\n",
       "      <th>dropoff_longitude</th>\n",
       "      <th>dropoff_latitude</th>\n",
       "      <th>trip_duration</th>\n",
       "      <th>pickup_by_month</th>\n",
       "      <th>dropoff_by_month</th>\n",
       "      <th>pickup_by_weekday</th>\n",
       "      <th>dropoff_by_weekday</th>\n",
       "      <th>pickup_by_hour</th>\n",
       "      <th>dropoff_by_hour</th>\n",
       "      <th>distance</th>\n",
       "      <th>average_speed</th>\n",
       "    </tr>\n",
       "  </thead>\n",
       "  <tbody>\n",
       "    <tr>\n",
       "      <th>count</th>\n",
       "      <td>729322.000000</td>\n",
       "      <td>729322.000000</td>\n",
       "      <td>729322.000000</td>\n",
       "      <td>729322.000000</td>\n",
       "      <td>729322.000000</td>\n",
       "      <td>729322.000000</td>\n",
       "      <td>7.293220e+05</td>\n",
       "      <td>729322.000000</td>\n",
       "      <td>729322.000000</td>\n",
       "      <td>729322.000000</td>\n",
       "      <td>729322.000000</td>\n",
       "      <td>729322.000000</td>\n",
       "      <td>729322.00000</td>\n",
       "      <td>729322.000000</td>\n",
       "      <td>729322.000000</td>\n",
       "    </tr>\n",
       "    <tr>\n",
       "      <th>mean</th>\n",
       "      <td>1.535403</td>\n",
       "      <td>1.662055</td>\n",
       "      <td>-73.973513</td>\n",
       "      <td>40.750919</td>\n",
       "      <td>-73.973422</td>\n",
       "      <td>40.751775</td>\n",
       "      <td>9.522291e+02</td>\n",
       "      <td>3.518410</td>\n",
       "      <td>3.518764</td>\n",
       "      <td>3.049081</td>\n",
       "      <td>3.053015</td>\n",
       "      <td>13.611698</td>\n",
       "      <td>13.60616</td>\n",
       "      <td>2.138227</td>\n",
       "      <td>8.961085</td>\n",
       "    </tr>\n",
       "    <tr>\n",
       "      <th>std</th>\n",
       "      <td>0.498745</td>\n",
       "      <td>1.312446</td>\n",
       "      <td>0.069754</td>\n",
       "      <td>0.033594</td>\n",
       "      <td>0.069588</td>\n",
       "      <td>0.036037</td>\n",
       "      <td>3.864626e+03</td>\n",
       "      <td>1.680661</td>\n",
       "      <td>1.680815</td>\n",
       "      <td>1.954470</td>\n",
       "      <td>1.956866</td>\n",
       "      <td>6.402853</td>\n",
       "      <td>6.48637</td>\n",
       "      <td>2.704915</td>\n",
       "      <td>7.668369</td>\n",
       "    </tr>\n",
       "    <tr>\n",
       "      <th>min</th>\n",
       "      <td>1.000000</td>\n",
       "      <td>0.000000</td>\n",
       "      <td>-121.933342</td>\n",
       "      <td>34.712234</td>\n",
       "      <td>-121.933304</td>\n",
       "      <td>32.181141</td>\n",
       "      <td>1.000000e+00</td>\n",
       "      <td>1.000000</td>\n",
       "      <td>1.000000</td>\n",
       "      <td>0.000000</td>\n",
       "      <td>0.000000</td>\n",
       "      <td>0.000000</td>\n",
       "      <td>0.00000</td>\n",
       "      <td>0.000000</td>\n",
       "      <td>0.000000</td>\n",
       "    </tr>\n",
       "    <tr>\n",
       "      <th>25%</th>\n",
       "      <td>1.000000</td>\n",
       "      <td>1.000000</td>\n",
       "      <td>-73.991859</td>\n",
       "      <td>40.737335</td>\n",
       "      <td>-73.991318</td>\n",
       "      <td>40.735931</td>\n",
       "      <td>3.970000e+02</td>\n",
       "      <td>2.000000</td>\n",
       "      <td>2.000000</td>\n",
       "      <td>1.000000</td>\n",
       "      <td>1.000000</td>\n",
       "      <td>9.000000</td>\n",
       "      <td>9.00000</td>\n",
       "      <td>0.765962</td>\n",
       "      <td>5.669591</td>\n",
       "    </tr>\n",
       "    <tr>\n",
       "      <th>50%</th>\n",
       "      <td>2.000000</td>\n",
       "      <td>1.000000</td>\n",
       "      <td>-73.981758</td>\n",
       "      <td>40.754070</td>\n",
       "      <td>-73.979759</td>\n",
       "      <td>40.754509</td>\n",
       "      <td>6.630000e+02</td>\n",
       "      <td>4.000000</td>\n",
       "      <td>4.000000</td>\n",
       "      <td>3.000000</td>\n",
       "      <td>3.000000</td>\n",
       "      <td>14.000000</td>\n",
       "      <td>14.00000</td>\n",
       "      <td>1.302192</td>\n",
       "      <td>7.951591</td>\n",
       "    </tr>\n",
       "    <tr>\n",
       "      <th>75%</th>\n",
       "      <td>2.000000</td>\n",
       "      <td>2.000000</td>\n",
       "      <td>-73.967361</td>\n",
       "      <td>40.768314</td>\n",
       "      <td>-73.963036</td>\n",
       "      <td>40.769741</td>\n",
       "      <td>1.075000e+03</td>\n",
       "      <td>5.000000</td>\n",
       "      <td>5.000000</td>\n",
       "      <td>5.000000</td>\n",
       "      <td>5.000000</td>\n",
       "      <td>19.000000</td>\n",
       "      <td>19.00000</td>\n",
       "      <td>2.408737</td>\n",
       "      <td>11.087711</td>\n",
       "    </tr>\n",
       "    <tr>\n",
       "      <th>max</th>\n",
       "      <td>2.000000</td>\n",
       "      <td>9.000000</td>\n",
       "      <td>-65.897385</td>\n",
       "      <td>51.881084</td>\n",
       "      <td>-65.897385</td>\n",
       "      <td>43.921028</td>\n",
       "      <td>1.939736e+06</td>\n",
       "      <td>6.000000</td>\n",
       "      <td>7.000000</td>\n",
       "      <td>6.000000</td>\n",
       "      <td>6.000000</td>\n",
       "      <td>23.000000</td>\n",
       "      <td>23.00000</td>\n",
       "      <td>771.065969</td>\n",
       "      <td>3504.845312</td>\n",
       "    </tr>\n",
       "  </tbody>\n",
       "</table>\n",
       "</div>"
      ],
      "text/plain": [
       "           vendor_id  passenger_count  pickup_longitude  pickup_latitude  \\\n",
       "count  729322.000000    729322.000000     729322.000000    729322.000000   \n",
       "mean        1.535403         1.662055        -73.973513        40.750919   \n",
       "std         0.498745         1.312446          0.069754         0.033594   \n",
       "min         1.000000         0.000000       -121.933342        34.712234   \n",
       "25%         1.000000         1.000000        -73.991859        40.737335   \n",
       "50%         2.000000         1.000000        -73.981758        40.754070   \n",
       "75%         2.000000         2.000000        -73.967361        40.768314   \n",
       "max         2.000000         9.000000        -65.897385        51.881084   \n",
       "\n",
       "       dropoff_longitude  dropoff_latitude  trip_duration  pickup_by_month  \\\n",
       "count      729322.000000     729322.000000   7.293220e+05    729322.000000   \n",
       "mean          -73.973422         40.751775   9.522291e+02         3.518410   \n",
       "std             0.069588          0.036037   3.864626e+03         1.680661   \n",
       "min          -121.933304         32.181141   1.000000e+00         1.000000   \n",
       "25%           -73.991318         40.735931   3.970000e+02         2.000000   \n",
       "50%           -73.979759         40.754509   6.630000e+02         4.000000   \n",
       "75%           -73.963036         40.769741   1.075000e+03         5.000000   \n",
       "max           -65.897385         43.921028   1.939736e+06         6.000000   \n",
       "\n",
       "       dropoff_by_month  pickup_by_weekday  dropoff_by_weekday  \\\n",
       "count     729322.000000      729322.000000       729322.000000   \n",
       "mean           3.518764           3.049081            3.053015   \n",
       "std            1.680815           1.954470            1.956866   \n",
       "min            1.000000           0.000000            0.000000   \n",
       "25%            2.000000           1.000000            1.000000   \n",
       "50%            4.000000           3.000000            3.000000   \n",
       "75%            5.000000           5.000000            5.000000   \n",
       "max            7.000000           6.000000            6.000000   \n",
       "\n",
       "       pickup_by_hour  dropoff_by_hour       distance  average_speed  \n",
       "count   729322.000000     729322.00000  729322.000000  729322.000000  \n",
       "mean        13.611698         13.60616       2.138227       8.961085  \n",
       "std          6.402853          6.48637       2.704915       7.668369  \n",
       "min          0.000000          0.00000       0.000000       0.000000  \n",
       "25%          9.000000          9.00000       0.765962       5.669591  \n",
       "50%         14.000000         14.00000       1.302192       7.951591  \n",
       "75%         19.000000         19.00000       2.408737      11.087711  \n",
       "max         23.000000         23.00000     771.065969    3504.845312  "
      ]
     },
     "execution_count": 36,
     "metadata": {},
     "output_type": "execute_result"
    }
   ],
   "source": [
    "df.describe()"
   ]
  },
  {
   "cell_type": "markdown",
   "metadata": {},
   "source": [
    "### 4.4 Univariate Analysis"
   ]
  },
  {
   "cell_type": "markdown",
   "metadata": {},
   "source": [
    "Now that we are very familiar with the dataset and have created some useful features it is time to start analyzing each variable."
   ]
  },
  {
   "cell_type": "markdown",
   "metadata": {},
   "source": [
    "### 4.4.1 Univariate Analysis for Targte variable trip_duration"
   ]
  },
  {
   "cell_type": "code",
   "execution_count": 38,
   "metadata": {},
   "outputs": [
    {
     "data": {
      "text/plain": [
       "count     729322.00\n",
       "mean         952.23\n",
       "std         3864.63\n",
       "min            1.00\n",
       "25%          397.00\n",
       "50%          663.00\n",
       "75%         1075.00\n",
       "max      1939736.00\n",
       "Name: trip_duration, dtype: float64"
      ]
     },
     "execution_count": 38,
     "metadata": {},
     "output_type": "execute_result"
    }
   ],
   "source": [
    "df['trip_duration'].describe().round(2)"
   ]
  },
  {
   "cell_type": "markdown",
   "metadata": {},
   "source": [
    "The summary statistics for trip_duration shows us:\n",
    "\n",
    "- There are no null values\n",
    "- A trip duration on average will take 9523.23 seconds\n",
    "- We see a considerable difference bettwen the max trip value and the 75% quantile value. We will need to check for the presence of outliers when we conduct our univariate analysis for the trip_duration variable."
   ]
  },
  {
   "cell_type": "code",
   "execution_count": 39,
   "metadata": {},
   "outputs": [],
   "source": [
    "# Calculating the skewness and kurtosis of the variable"
   ]
  },
  {
   "cell_type": "code",
   "execution_count": 40,
   "metadata": {},
   "outputs": [],
   "source": [
    "def add_stat(x):\n",
    "    m = df.loc[:,x].mode()\n",
    "    s = skew(df[x].dropna())\n",
    "    k = kurtosis(df[x].dropna())\n",
    "    W, p = stats.shapiro(df['trip_duration'].dropna())\n",
    "    print(f'Mode = {m}')\n",
    "    print(f'Skew = {s}')\n",
    "    print(f'Kurtosis = {k}')\n",
    "    if p <= 0.5:\n",
    "        print(f'Null hypothesis of normality is rejected.')\n",
    "    else:\n",
    "        print(f'Null hypothesis of normality is accepted.')"
   ]
  },
  {
   "cell_type": "code",
   "execution_count": 41,
   "metadata": {},
   "outputs": [
    {
     "name": "stdout",
     "output_type": "stream",
     "text": [
      "Mode = 0    348\n",
      "dtype: int64\n",
      "Skew = 186.67805293547696\n",
      "Kurtosis = 87141.8659722644\n",
      "Null hypothesis of normality is rejected.\n"
     ]
    },
    {
     "name": "stderr",
     "output_type": "stream",
     "text": [
      "C:\\Users\\65917\\Anaconda3\\lib\\site-packages\\scipy\\stats\\morestats.py:1681: UserWarning: p-value may not be accurate for N > 5000.\n",
      "  warnings.warn(\"p-value may not be accurate for N > 5000.\")\n"
     ]
    }
   ],
   "source": [
    "# Calculating additional statistics\n",
    "add_stat('trip_duration')"
   ]
  },
  {
   "cell_type": "markdown",
   "metadata": {},
   "source": [
    "***Observation*** As we can see the variable trip_duration has a high kurtosis and it is skew. These resutls indicate that the variable is not normally distributed. In order to support our finding we test for normality using the Shapiro-Wilk test, which confirmed that the variable trip_duraiton is not normally distributed."
   ]
  },
  {
   "cell_type": "code",
   "execution_count": 42,
   "metadata": {},
   "outputs": [
    {
     "data": {
      "text/plain": [
       "<AxesSubplot:title={'center':'Histogram for Trip_Duration'}, xlabel='trip_duration', ylabel='Count'>"
      ]
     },
     "execution_count": 42,
     "metadata": {},
     "output_type": "execute_result"
    },
    {
     "data": {
      "image/png": "[encoded data removed]",
      "text/plain": [
       "<Figure size 432x288 with 1 Axes>"
      ]
     },
     "metadata": {
      "needs_background": "light"
     },
     "output_type": "display_data"
    }
   ],
   "source": [
    "# Plotting a Histogram to inspect distribution and outliers\n",
    "plt.title('Histogram for Trip_Duration')\n",
    "sns.histplot(df['trip_duration'], kde=False, bins=25)"
   ]
  },
  {
   "cell_type": "code",
   "execution_count": 43,
   "metadata": {},
   "outputs": [
    {
     "data": {
      "text/plain": [
       "<AxesSubplot:title={'center':'Boxplot for Trip_Duration'}, xlabel='trip_duration'>"
      ]
     },
     "execution_count": 43,
     "metadata": {},
     "output_type": "execute_result"
    },
    {
     "data": {
      "image/png": "[encoded data removed]",
      "text/plain": [
       "<Figure size 432x288 with 1 Axes>"
      ]
     },
     "metadata": {
      "needs_background": "light"
     },
     "output_type": "display_data"
    }
   ],
   "source": [
    "plt.title('Boxplot for Trip_Duration')\n",
    "sns.boxplot(x = df['trip_duration'])"
   ]
  },
  {
   "cell_type": "code",
   "execution_count": 44,
   "metadata": {},
   "outputs": [
    {
     "data": {
      "text/html": [
       "<div>\n",
       "<style scoped>\n",
       "    .dataframe tbody tr th:only-of-type {\n",
       "        vertical-align: middle;\n",
       "    }\n",
       "\n",
       "    .dataframe tbody tr th {\n",
       "        vertical-align: top;\n",
       "    }\n",
       "\n",
       "    .dataframe thead th {\n",
       "        text-align: right;\n",
       "    }\n",
       "</style>\n",
       "<table border=\"1\" class=\"dataframe\">\n",
       "  <thead>\n",
       "    <tr style=\"text-align: right;\">\n",
       "      <th></th>\n",
       "      <th>id</th>\n",
       "      <th>vendor_id</th>\n",
       "      <th>pickup_datetime</th>\n",
       "      <th>dropoff_datetime</th>\n",
       "      <th>passenger_count</th>\n",
       "      <th>pickup_longitude</th>\n",
       "      <th>pickup_latitude</th>\n",
       "      <th>dropoff_longitude</th>\n",
       "      <th>dropoff_latitude</th>\n",
       "      <th>store_and_fwd_flag</th>\n",
       "      <th>...</th>\n",
       "      <th>pickup_by_weekday</th>\n",
       "      <th>dropoff_by_weekday</th>\n",
       "      <th>pickup_by_day</th>\n",
       "      <th>dropoff_by_day</th>\n",
       "      <th>pickup_by_hour</th>\n",
       "      <th>dropoff_by_hour</th>\n",
       "      <th>pickup_part_of_day</th>\n",
       "      <th>dropoff_part_of_day</th>\n",
       "      <th>distance</th>\n",
       "      <th>average_speed</th>\n",
       "    </tr>\n",
       "  </thead>\n",
       "  <tbody>\n",
       "    <tr>\n",
       "      <th>21813</th>\n",
       "      <td>id1864733</td>\n",
       "      <td>1</td>\n",
       "      <td>2016-01-05 00:19:42</td>\n",
       "      <td>2016-01-27 11:08:38</td>\n",
       "      <td>1</td>\n",
       "      <td>-73.78965</td>\n",
       "      <td>40.643559</td>\n",
       "      <td>-73.95681</td>\n",
       "      <td>40.773087</td>\n",
       "      <td>N</td>\n",
       "      <td>...</td>\n",
       "      <td>1</td>\n",
       "      <td>2</td>\n",
       "      <td>Tuesday</td>\n",
       "      <td>Wednesday</td>\n",
       "      <td>0</td>\n",
       "      <td>11</td>\n",
       "      <td>Night</td>\n",
       "      <td>Morning</td>\n",
       "      <td>12.519817</td>\n",
       "      <td>0.023236</td>\n",
       "    </tr>\n",
       "  </tbody>\n",
       "</table>\n",
       "<p>1 rows × 23 columns</p>\n",
       "</div>"
      ],
      "text/plain": [
       "              id  vendor_id     pickup_datetime    dropoff_datetime  \\\n",
       "21813  id1864733          1 2016-01-05 00:19:42 2016-01-27 11:08:38   \n",
       "\n",
       "       passenger_count  pickup_longitude  pickup_latitude  dropoff_longitude  \\\n",
       "21813                1         -73.78965        40.643559          -73.95681   \n",
       "\n",
       "       dropoff_latitude store_and_fwd_flag  ...  pickup_by_weekday  \\\n",
       "21813         40.773087                  N  ...                  1   \n",
       "\n",
       "       dropoff_by_weekday  pickup_by_day  dropoff_by_day  pickup_by_hour  \\\n",
       "21813                   2        Tuesday       Wednesday               0   \n",
       "\n",
       "      dropoff_by_hour pickup_part_of_day  dropoff_part_of_day   distance  \\\n",
       "21813              11              Night              Morning  12.519817   \n",
       "\n",
       "      average_speed  \n",
       "21813      0.023236  \n",
       "\n",
       "[1 rows x 23 columns]"
      ]
     },
     "execution_count": 44,
     "metadata": {},
     "output_type": "execute_result"
    }
   ],
   "source": [
    "# Checking the outlier )maxium) row\n",
    "df[df['trip_duration'] == df['trip_duration'].max()]"
   ]
  },
  {
   "cell_type": "code",
   "execution_count": 45,
   "metadata": {},
   "outputs": [],
   "source": [
    "# Dopping the outlier from maxium\n",
    "\n",
    "df.drop(df[df['trip_duration'] == 1939736.00].index, inplace = True)"
   ]
  },
  {
   "cell_type": "code",
   "execution_count": 46,
   "metadata": {},
   "outputs": [
    {
     "data": {
      "text/html": [
       "<div>\n",
       "<style scoped>\n",
       "    .dataframe tbody tr th:only-of-type {\n",
       "        vertical-align: middle;\n",
       "    }\n",
       "\n",
       "    .dataframe tbody tr th {\n",
       "        vertical-align: top;\n",
       "    }\n",
       "\n",
       "    .dataframe thead th {\n",
       "        text-align: right;\n",
       "    }\n",
       "</style>\n",
       "<table border=\"1\" class=\"dataframe\">\n",
       "  <thead>\n",
       "    <tr style=\"text-align: right;\">\n",
       "      <th></th>\n",
       "      <th>id</th>\n",
       "      <th>vendor_id</th>\n",
       "      <th>pickup_datetime</th>\n",
       "      <th>dropoff_datetime</th>\n",
       "      <th>passenger_count</th>\n",
       "      <th>pickup_longitude</th>\n",
       "      <th>pickup_latitude</th>\n",
       "      <th>dropoff_longitude</th>\n",
       "      <th>dropoff_latitude</th>\n",
       "      <th>store_and_fwd_flag</th>\n",
       "      <th>...</th>\n",
       "      <th>pickup_by_weekday</th>\n",
       "      <th>dropoff_by_weekday</th>\n",
       "      <th>pickup_by_day</th>\n",
       "      <th>dropoff_by_day</th>\n",
       "      <th>pickup_by_hour</th>\n",
       "      <th>dropoff_by_hour</th>\n",
       "      <th>pickup_part_of_day</th>\n",
       "      <th>dropoff_part_of_day</th>\n",
       "      <th>distance</th>\n",
       "      <th>average_speed</th>\n",
       "    </tr>\n",
       "  </thead>\n",
       "  <tbody>\n",
       "    <tr>\n",
       "      <th>259437</th>\n",
       "      <td>id0593332</td>\n",
       "      <td>2</td>\n",
       "      <td>2016-05-31 13:00:39</td>\n",
       "      <td>2016-06-01 13:00:30</td>\n",
       "      <td>1</td>\n",
       "      <td>-73.781952</td>\n",
       "      <td>40.644688</td>\n",
       "      <td>-73.993874</td>\n",
       "      <td>40.745926</td>\n",
       "      <td>N</td>\n",
       "      <td>...</td>\n",
       "      <td>1</td>\n",
       "      <td>2</td>\n",
       "      <td>Tuesday</td>\n",
       "      <td>Wednesday</td>\n",
       "      <td>13</td>\n",
       "      <td>13</td>\n",
       "      <td>Afternoon</td>\n",
       "      <td>Afternoon</td>\n",
       "      <td>13.121578</td>\n",
       "      <td>0.546789</td>\n",
       "    </tr>\n",
       "  </tbody>\n",
       "</table>\n",
       "<p>1 rows × 23 columns</p>\n",
       "</div>"
      ],
      "text/plain": [
       "               id  vendor_id     pickup_datetime    dropoff_datetime  \\\n",
       "259437  id0593332          2 2016-05-31 13:00:39 2016-06-01 13:00:30   \n",
       "\n",
       "        passenger_count  pickup_longitude  pickup_latitude  dropoff_longitude  \\\n",
       "259437                1        -73.781952        40.644688         -73.993874   \n",
       "\n",
       "        dropoff_latitude store_and_fwd_flag  ...  pickup_by_weekday  \\\n",
       "259437         40.745926                  N  ...                  1   \n",
       "\n",
       "        dropoff_by_weekday  pickup_by_day  dropoff_by_day  pickup_by_hour  \\\n",
       "259437                   2        Tuesday       Wednesday              13   \n",
       "\n",
       "       dropoff_by_hour pickup_part_of_day  dropoff_part_of_day   distance  \\\n",
       "259437              13          Afternoon            Afternoon  13.121578   \n",
       "\n",
       "       average_speed  \n",
       "259437      0.546789  \n",
       "\n",
       "[1 rows x 23 columns]"
      ]
     },
     "execution_count": 46,
     "metadata": {},
     "output_type": "execute_result"
    }
   ],
   "source": [
    "# Checking the new maxium\n",
    "df[df['trip_duration'] == df['trip_duration'].max()]"
   ]
  },
  {
   "cell_type": "markdown",
   "metadata": {},
   "source": [
    "### 4.4.2 Univariate Analysis for for vendor_id"
   ]
  },
  {
   "cell_type": "code",
   "execution_count": 48,
   "metadata": {},
   "outputs": [
    {
     "data": {
      "text/plain": [
       "count    729321.000000\n",
       "mean          1.535403\n",
       "std           0.498745\n",
       "min           1.000000\n",
       "25%           1.000000\n",
       "50%           2.000000\n",
       "75%           2.000000\n",
       "max           2.000000\n",
       "Name: vendor_id, dtype: float64"
      ]
     },
     "execution_count": 48,
     "metadata": {},
     "output_type": "execute_result"
    }
   ],
   "source": [
    "df['vendor_id'].describe()"
   ]
  },
  {
   "cell_type": "code",
   "execution_count": 49,
   "metadata": {},
   "outputs": [
    {
     "name": "stdout",
     "output_type": "stream",
     "text": [
      "Mode = 0    2\n",
      "dtype: int64\n",
      "Skew = -0.14197025212279726\n",
      "Kurtosis = -1.9798444475121897\n",
      "Null hypothesis of normality is rejected.\n"
     ]
    },
    {
     "name": "stderr",
     "output_type": "stream",
     "text": [
      "C:\\Users\\65917\\Anaconda3\\lib\\site-packages\\scipy\\stats\\morestats.py:1681: UserWarning: p-value may not be accurate for N > 5000.\n",
      "  warnings.warn(\"p-value may not be accurate for N > 5000.\")\n"
     ]
    }
   ],
   "source": [
    "# Calculating additional statistics\n",
    "add_stat('vendor_id')"
   ]
  },
  {
   "cell_type": "code",
   "execution_count": 50,
   "metadata": {},
   "outputs": [
    {
     "data": {
      "text/plain": [
       "<AxesSubplot:xlabel='vendor_id', ylabel='count'>"
      ]
     },
     "execution_count": 50,
     "metadata": {},
     "output_type": "execute_result"
    },
    {
     "data": {
      "image/png": "[encoded data removed]",
      "text/plain": [
       "<Figure size 432x288 with 1 Axes>"
      ]
     },
     "metadata": {
      "needs_background": "light"
     },
     "output_type": "display_data"
    }
   ],
   "source": [
    "sns.countplot(x='vendor_id', data=df)"
   ]
  },
  {
   "cell_type": "markdown",
   "metadata": {},
   "source": [
    "### 4.4.3 Univariate Analysis for passenger_count"
   ]
  },
  {
   "cell_type": "code",
   "execution_count": 52,
   "metadata": {},
   "outputs": [
    {
     "data": {
      "text/plain": [
       "count    729321.000000\n",
       "mean          1.662056\n",
       "std           1.312446\n",
       "min           0.000000\n",
       "25%           1.000000\n",
       "50%           1.000000\n",
       "75%           2.000000\n",
       "max           9.000000\n",
       "Name: passenger_count, dtype: float64"
      ]
     },
     "execution_count": 52,
     "metadata": {},
     "output_type": "execute_result"
    }
   ],
   "source": [
    "df['passenger_count'].describe()"
   ]
  },
  {
   "cell_type": "code",
   "execution_count": 53,
   "metadata": {},
   "outputs": [
    {
     "data": {
      "text/plain": [
       "1    517414\n",
       "2    105097\n",
       "5     38926\n",
       "3     29692\n",
       "6     24107\n",
       "4     14050\n",
       "0        33\n",
       "7         1\n",
       "9         1\n",
       "Name: passenger_count, dtype: int64"
      ]
     },
     "execution_count": 53,
     "metadata": {},
     "output_type": "execute_result"
    }
   ],
   "source": [
    "df.passenger_count.value_counts()"
   ]
  },
  {
   "cell_type": "code",
   "execution_count": 54,
   "metadata": {},
   "outputs": [
    {
     "data": {
      "text/plain": [
       "<AxesSubplot:xlabel='passenger_count', ylabel='count'>"
      ]
     },
     "execution_count": 54,
     "metadata": {},
     "output_type": "execute_result"
    },
    {
     "data": {
      "image/png": "[encoded data removed]",
      "text/plain": [
       "<Figure size 432x288 with 1 Axes>"
      ]
     },
     "metadata": {
      "needs_background": "light"
     },
     "output_type": "display_data"
    }
   ],
   "source": [
    "sns.countplot(x = 'passenger_count', data=df)"
   ]
  },
  {
   "cell_type": "markdown",
   "metadata": {},
   "source": [
    "Observation: From the data we can safely conclude that most of the trips will include just one passenger."
   ]
  },
  {
   "cell_type": "markdown",
   "metadata": {},
   "source": [
    "### 4.4.4 Univariate Analysis for pickup_by_day and dropoff_by_day"
   ]
  },
  {
   "cell_type": "code",
   "execution_count": 55,
   "metadata": {},
   "outputs": [
    {
     "data": {
      "text/plain": [
       "count     729321\n",
       "unique         7\n",
       "top       Friday\n",
       "freq      111744\n",
       "Name: pickup_by_day, dtype: object"
      ]
     },
     "execution_count": 55,
     "metadata": {},
     "output_type": "execute_result"
    }
   ],
   "source": [
    "df['pickup_by_day'].describe(include=object)"
   ]
  },
  {
   "cell_type": "code",
   "execution_count": 56,
   "metadata": {},
   "outputs": [
    {
     "data": {
      "text/plain": [
       "count     729321\n",
       "unique         7\n",
       "top       Friday\n",
       "freq      111509\n",
       "Name: dropoff_by_day, dtype: object"
      ]
     },
     "execution_count": 56,
     "metadata": {},
     "output_type": "execute_result"
    }
   ],
   "source": [
    "df['dropoff_by_day'].describe(include=object)"
   ]
  },
  {
   "cell_type": "code",
   "execution_count": 57,
   "metadata": {},
   "outputs": [
    {
     "data": {
      "text/plain": [
       "<AxesSubplot:xlabel='pickup_by_day', ylabel='count'>"
      ]
     },
     "execution_count": 57,
     "metadata": {},
     "output_type": "execute_result"
    },
    {
     "data": {
      "image/png": "[encoded data removed]",
      "text/plain": [
       "<Figure size 432x288 with 1 Axes>"
      ]
     },
     "metadata": {
      "needs_background": "light"
     },
     "output_type": "display_data"
    }
   ],
   "source": [
    "sns.countplot(x = 'pickup_by_day', data=df)"
   ]
  },
  {
   "cell_type": "code",
   "execution_count": 58,
   "metadata": {},
   "outputs": [
    {
     "data": {
      "text/plain": [
       "<AxesSubplot:xlabel='dropoff_by_day', ylabel='count'>"
      ]
     },
     "execution_count": 58,
     "metadata": {},
     "output_type": "execute_result"
    },
    {
     "data": {
      "image/png": "[encoded data removed]",
      "text/plain": [
       "<Figure size 432x288 with 1 Axes>"
      ]
     },
     "metadata": {
      "needs_background": "light"
     },
     "output_type": "display_data"
    }
   ],
   "source": [
    "sns.countplot(x = 'dropoff_by_day', data=df)"
   ]
  },
  {
   "cell_type": "markdown",
   "metadata": {},
   "source": [
    "**Observation**: We can see that Friday is the busiest day of the week. Followed by Saturdar and Thursday."
   ]
  },
  {
   "cell_type": "markdown",
   "metadata": {},
   "source": [
    "### 4.4.5 Univariate Analysis for distance"
   ]
  },
  {
   "cell_type": "code",
   "execution_count": 60,
   "metadata": {},
   "outputs": [
    {
     "data": {
      "text/plain": [
       "count    729321.000000\n",
       "mean          2.138213\n",
       "std           2.704889\n",
       "min           0.000000\n",
       "25%           0.765962\n",
       "50%           1.302192\n",
       "75%           2.408731\n",
       "max         771.065969\n",
       "Name: distance, dtype: float64"
      ]
     },
     "execution_count": 60,
     "metadata": {},
     "output_type": "execute_result"
    }
   ],
   "source": [
    "df['distance'].describe()"
   ]
  },
  {
   "cell_type": "code",
   "execution_count": 61,
   "metadata": {},
   "outputs": [
    {
     "name": "stdout",
     "output_type": "stream",
     "text": [
      "Mode = 0    0.0\n",
      "dtype: float64\n",
      "Skew = 40.983132210426184\n",
      "Kurtosis = 9795.40134091124\n",
      "Null hypothesis of normality is rejected.\n"
     ]
    },
    {
     "name": "stderr",
     "output_type": "stream",
     "text": [
      "C:\\Users\\65917\\Anaconda3\\lib\\site-packages\\scipy\\stats\\morestats.py:1681: UserWarning: p-value may not be accurate for N > 5000.\n",
      "  warnings.warn(\"p-value may not be accurate for N > 5000.\")\n"
     ]
    }
   ],
   "source": [
    "# Calculating additional statistics\n",
    "add_stat('distance')"
   ]
  },
  {
   "cell_type": "code",
   "execution_count": 62,
   "metadata": {},
   "outputs": [
    {
     "data": {
      "text/plain": [
       "0.000000     2901\n",
       "0.000264       44\n",
       "0.000264       31\n",
       "0.000264       23\n",
       "0.000791       22\n",
       "             ... \n",
       "1.997195        1\n",
       "2.046849        1\n",
       "13.948851       1\n",
       "5.180411        1\n",
       "3.316373        1\n",
       "Name: distance, Length: 726198, dtype: int64"
      ]
     },
     "execution_count": 62,
     "metadata": {},
     "output_type": "execute_result"
    }
   ],
   "source": [
    "df['distance'].value_counts() "
   ]
  },
  {
   "cell_type": "markdown",
   "metadata": {},
   "source": [
    "**Observation**: We can see that there are 2,901 trips that have a distance of zero. We should investigate why they have zero distance. Lets see is we can get an idea why they have a distance of 0 or close to 0."
   ]
  },
  {
   "cell_type": "code",
   "execution_count": 63,
   "metadata": {},
   "outputs": [
    {
     "data": {
      "text/html": [
       "<div>\n",
       "<style scoped>\n",
       "    .dataframe tbody tr th:only-of-type {\n",
       "        vertical-align: middle;\n",
       "    }\n",
       "\n",
       "    .dataframe tbody tr th {\n",
       "        vertical-align: top;\n",
       "    }\n",
       "\n",
       "    .dataframe thead th {\n",
       "        text-align: right;\n",
       "    }\n",
       "</style>\n",
       "<table border=\"1\" class=\"dataframe\">\n",
       "  <thead>\n",
       "    <tr style=\"text-align: right;\">\n",
       "      <th></th>\n",
       "      <th>id</th>\n",
       "      <th>vendor_id</th>\n",
       "      <th>pickup_datetime</th>\n",
       "      <th>dropoff_datetime</th>\n",
       "      <th>passenger_count</th>\n",
       "      <th>pickup_longitude</th>\n",
       "      <th>pickup_latitude</th>\n",
       "      <th>dropoff_longitude</th>\n",
       "      <th>dropoff_latitude</th>\n",
       "      <th>store_and_fwd_flag</th>\n",
       "      <th>...</th>\n",
       "      <th>pickup_by_weekday</th>\n",
       "      <th>dropoff_by_weekday</th>\n",
       "      <th>pickup_by_day</th>\n",
       "      <th>dropoff_by_day</th>\n",
       "      <th>pickup_by_hour</th>\n",
       "      <th>dropoff_by_hour</th>\n",
       "      <th>pickup_part_of_day</th>\n",
       "      <th>dropoff_part_of_day</th>\n",
       "      <th>distance</th>\n",
       "      <th>average_speed</th>\n",
       "    </tr>\n",
       "  </thead>\n",
       "  <tbody>\n",
       "    <tr>\n",
       "      <th>263</th>\n",
       "      <td>id3155891</td>\n",
       "      <td>2</td>\n",
       "      <td>2016-06-28 11:21:00</td>\n",
       "      <td>2016-06-28 11:25:00</td>\n",
       "      <td>2</td>\n",
       "      <td>-73.996422</td>\n",
       "      <td>40.298828</td>\n",
       "      <td>-73.996422</td>\n",
       "      <td>40.298828</td>\n",
       "      <td>N</td>\n",
       "      <td>...</td>\n",
       "      <td>1</td>\n",
       "      <td>1</td>\n",
       "      <td>Tuesday</td>\n",
       "      <td>Tuesday</td>\n",
       "      <td>11</td>\n",
       "      <td>11</td>\n",
       "      <td>Morning</td>\n",
       "      <td>Morning</td>\n",
       "      <td>0.0</td>\n",
       "      <td>0.0</td>\n",
       "    </tr>\n",
       "    <tr>\n",
       "      <th>327</th>\n",
       "      <td>id0786923</td>\n",
       "      <td>2</td>\n",
       "      <td>2016-03-26 13:34:38</td>\n",
       "      <td>2016-03-26 13:37:17</td>\n",
       "      <td>1</td>\n",
       "      <td>-73.996323</td>\n",
       "      <td>40.753460</td>\n",
       "      <td>-73.996323</td>\n",
       "      <td>40.753460</td>\n",
       "      <td>N</td>\n",
       "      <td>...</td>\n",
       "      <td>5</td>\n",
       "      <td>5</td>\n",
       "      <td>Saturday</td>\n",
       "      <td>Saturday</td>\n",
       "      <td>13</td>\n",
       "      <td>13</td>\n",
       "      <td>Afternoon</td>\n",
       "      <td>Afternoon</td>\n",
       "      <td>0.0</td>\n",
       "      <td>0.0</td>\n",
       "    </tr>\n",
       "    <tr>\n",
       "      <th>795</th>\n",
       "      <td>id2323213</td>\n",
       "      <td>2</td>\n",
       "      <td>2016-06-13 16:49:52</td>\n",
       "      <td>2016-06-13 17:04:49</td>\n",
       "      <td>5</td>\n",
       "      <td>-73.967171</td>\n",
       "      <td>40.763500</td>\n",
       "      <td>-73.967171</td>\n",
       "      <td>40.763500</td>\n",
       "      <td>N</td>\n",
       "      <td>...</td>\n",
       "      <td>0</td>\n",
       "      <td>0</td>\n",
       "      <td>Monday</td>\n",
       "      <td>Monday</td>\n",
       "      <td>16</td>\n",
       "      <td>17</td>\n",
       "      <td>Afternoon</td>\n",
       "      <td>Afternoon</td>\n",
       "      <td>0.0</td>\n",
       "      <td>0.0</td>\n",
       "    </tr>\n",
       "    <tr>\n",
       "      <th>1176</th>\n",
       "      <td>id3235868</td>\n",
       "      <td>1</td>\n",
       "      <td>2016-02-29 21:39:52</td>\n",
       "      <td>2016-02-29 21:44:08</td>\n",
       "      <td>1</td>\n",
       "      <td>-73.995232</td>\n",
       "      <td>40.744038</td>\n",
       "      <td>-73.995232</td>\n",
       "      <td>40.744038</td>\n",
       "      <td>N</td>\n",
       "      <td>...</td>\n",
       "      <td>0</td>\n",
       "      <td>0</td>\n",
       "      <td>Monday</td>\n",
       "      <td>Monday</td>\n",
       "      <td>21</td>\n",
       "      <td>21</td>\n",
       "      <td>Night</td>\n",
       "      <td>Night</td>\n",
       "      <td>0.0</td>\n",
       "      <td>0.0</td>\n",
       "    </tr>\n",
       "    <tr>\n",
       "      <th>1257</th>\n",
       "      <td>id1865738</td>\n",
       "      <td>2</td>\n",
       "      <td>2016-03-13 11:38:36</td>\n",
       "      <td>2016-03-13 12:00:46</td>\n",
       "      <td>2</td>\n",
       "      <td>-73.912781</td>\n",
       "      <td>40.804428</td>\n",
       "      <td>-73.912781</td>\n",
       "      <td>40.804428</td>\n",
       "      <td>N</td>\n",
       "      <td>...</td>\n",
       "      <td>6</td>\n",
       "      <td>6</td>\n",
       "      <td>Sunday</td>\n",
       "      <td>Sunday</td>\n",
       "      <td>11</td>\n",
       "      <td>12</td>\n",
       "      <td>Morning</td>\n",
       "      <td>Afternoon</td>\n",
       "      <td>0.0</td>\n",
       "      <td>0.0</td>\n",
       "    </tr>\n",
       "    <tr>\n",
       "      <th>...</th>\n",
       "      <td>...</td>\n",
       "      <td>...</td>\n",
       "      <td>...</td>\n",
       "      <td>...</td>\n",
       "      <td>...</td>\n",
       "      <td>...</td>\n",
       "      <td>...</td>\n",
       "      <td>...</td>\n",
       "      <td>...</td>\n",
       "      <td>...</td>\n",
       "      <td>...</td>\n",
       "      <td>...</td>\n",
       "      <td>...</td>\n",
       "      <td>...</td>\n",
       "      <td>...</td>\n",
       "      <td>...</td>\n",
       "      <td>...</td>\n",
       "      <td>...</td>\n",
       "      <td>...</td>\n",
       "      <td>...</td>\n",
       "      <td>...</td>\n",
       "    </tr>\n",
       "    <tr>\n",
       "      <th>728720</th>\n",
       "      <td>id3423342</td>\n",
       "      <td>2</td>\n",
       "      <td>2016-05-05 21:32:43</td>\n",
       "      <td>2016-05-05 21:32:57</td>\n",
       "      <td>2</td>\n",
       "      <td>-73.977898</td>\n",
       "      <td>40.766392</td>\n",
       "      <td>-73.977898</td>\n",
       "      <td>40.766392</td>\n",
       "      <td>N</td>\n",
       "      <td>...</td>\n",
       "      <td>3</td>\n",
       "      <td>3</td>\n",
       "      <td>Thursday</td>\n",
       "      <td>Thursday</td>\n",
       "      <td>21</td>\n",
       "      <td>21</td>\n",
       "      <td>Night</td>\n",
       "      <td>Night</td>\n",
       "      <td>0.0</td>\n",
       "      <td>0.0</td>\n",
       "    </tr>\n",
       "    <tr>\n",
       "      <th>728775</th>\n",
       "      <td>id2618105</td>\n",
       "      <td>2</td>\n",
       "      <td>2016-03-13 20:06:40</td>\n",
       "      <td>2016-03-13 20:14:24</td>\n",
       "      <td>1</td>\n",
       "      <td>-73.974258</td>\n",
       "      <td>40.759895</td>\n",
       "      <td>-73.974258</td>\n",
       "      <td>40.759895</td>\n",
       "      <td>N</td>\n",
       "      <td>...</td>\n",
       "      <td>6</td>\n",
       "      <td>6</td>\n",
       "      <td>Sunday</td>\n",
       "      <td>Sunday</td>\n",
       "      <td>20</td>\n",
       "      <td>20</td>\n",
       "      <td>Evening</td>\n",
       "      <td>Evening</td>\n",
       "      <td>0.0</td>\n",
       "      <td>0.0</td>\n",
       "    </tr>\n",
       "    <tr>\n",
       "      <th>728838</th>\n",
       "      <td>id1232120</td>\n",
       "      <td>2</td>\n",
       "      <td>2016-05-29 04:04:32</td>\n",
       "      <td>2016-05-29 04:11:33</td>\n",
       "      <td>2</td>\n",
       "      <td>-73.984558</td>\n",
       "      <td>40.750839</td>\n",
       "      <td>-73.984558</td>\n",
       "      <td>40.750839</td>\n",
       "      <td>N</td>\n",
       "      <td>...</td>\n",
       "      <td>6</td>\n",
       "      <td>6</td>\n",
       "      <td>Sunday</td>\n",
       "      <td>Sunday</td>\n",
       "      <td>4</td>\n",
       "      <td>4</td>\n",
       "      <td>Night</td>\n",
       "      <td>Night</td>\n",
       "      <td>0.0</td>\n",
       "      <td>0.0</td>\n",
       "    </tr>\n",
       "    <tr>\n",
       "      <th>729025</th>\n",
       "      <td>id3524028</td>\n",
       "      <td>2</td>\n",
       "      <td>2016-04-06 18:03:34</td>\n",
       "      <td>2016-04-06 18:26:23</td>\n",
       "      <td>1</td>\n",
       "      <td>-74.083611</td>\n",
       "      <td>40.632401</td>\n",
       "      <td>-74.083611</td>\n",
       "      <td>40.632401</td>\n",
       "      <td>N</td>\n",
       "      <td>...</td>\n",
       "      <td>2</td>\n",
       "      <td>2</td>\n",
       "      <td>Wednesday</td>\n",
       "      <td>Wednesday</td>\n",
       "      <td>18</td>\n",
       "      <td>18</td>\n",
       "      <td>Evening</td>\n",
       "      <td>Evening</td>\n",
       "      <td>0.0</td>\n",
       "      <td>0.0</td>\n",
       "    </tr>\n",
       "    <tr>\n",
       "      <th>729308</th>\n",
       "      <td>id3477255</td>\n",
       "      <td>2</td>\n",
       "      <td>2016-01-20 08:22:38</td>\n",
       "      <td>2016-01-20 08:47:35</td>\n",
       "      <td>1</td>\n",
       "      <td>-73.977859</td>\n",
       "      <td>40.749538</td>\n",
       "      <td>-73.977859</td>\n",
       "      <td>40.749538</td>\n",
       "      <td>N</td>\n",
       "      <td>...</td>\n",
       "      <td>2</td>\n",
       "      <td>2</td>\n",
       "      <td>Wednesday</td>\n",
       "      <td>Wednesday</td>\n",
       "      <td>8</td>\n",
       "      <td>8</td>\n",
       "      <td>Morning</td>\n",
       "      <td>Morning</td>\n",
       "      <td>0.0</td>\n",
       "      <td>0.0</td>\n",
       "    </tr>\n",
       "  </tbody>\n",
       "</table>\n",
       "<p>2901 rows × 23 columns</p>\n",
       "</div>"
      ],
      "text/plain": [
       "               id  vendor_id     pickup_datetime    dropoff_datetime  \\\n",
       "263     id3155891          2 2016-06-28 11:21:00 2016-06-28 11:25:00   \n",
       "327     id0786923          2 2016-03-26 13:34:38 2016-03-26 13:37:17   \n",
       "795     id2323213          2 2016-06-13 16:49:52 2016-06-13 17:04:49   \n",
       "1176    id3235868          1 2016-02-29 21:39:52 2016-02-29 21:44:08   \n",
       "1257    id1865738          2 2016-03-13 11:38:36 2016-03-13 12:00:46   \n",
       "...           ...        ...                 ...                 ...   \n",
       "728720  id3423342          2 2016-05-05 21:32:43 2016-05-05 21:32:57   \n",
       "728775  id2618105          2 2016-03-13 20:06:40 2016-03-13 20:14:24   \n",
       "728838  id1232120          2 2016-05-29 04:04:32 2016-05-29 04:11:33   \n",
       "729025  id3524028          2 2016-04-06 18:03:34 2016-04-06 18:26:23   \n",
       "729308  id3477255          2 2016-01-20 08:22:38 2016-01-20 08:47:35   \n",
       "\n",
       "        passenger_count  pickup_longitude  pickup_latitude  dropoff_longitude  \\\n",
       "263                   2        -73.996422        40.298828         -73.996422   \n",
       "327                   1        -73.996323        40.753460         -73.996323   \n",
       "795                   5        -73.967171        40.763500         -73.967171   \n",
       "1176                  1        -73.995232        40.744038         -73.995232   \n",
       "1257                  2        -73.912781        40.804428         -73.912781   \n",
       "...                 ...               ...              ...                ...   \n",
       "728720                2        -73.977898        40.766392         -73.977898   \n",
       "728775                1        -73.974258        40.759895         -73.974258   \n",
       "728838                2        -73.984558        40.750839         -73.984558   \n",
       "729025                1        -74.083611        40.632401         -74.083611   \n",
       "729308                1        -73.977859        40.749538         -73.977859   \n",
       "\n",
       "        dropoff_latitude store_and_fwd_flag  ...  pickup_by_weekday  \\\n",
       "263            40.298828                  N  ...                  1   \n",
       "327            40.753460                  N  ...                  5   \n",
       "795            40.763500                  N  ...                  0   \n",
       "1176           40.744038                  N  ...                  0   \n",
       "1257           40.804428                  N  ...                  6   \n",
       "...                  ...                ...  ...                ...   \n",
       "728720         40.766392                  N  ...                  3   \n",
       "728775         40.759895                  N  ...                  6   \n",
       "728838         40.750839                  N  ...                  6   \n",
       "729025         40.632401                  N  ...                  2   \n",
       "729308         40.749538                  N  ...                  2   \n",
       "\n",
       "        dropoff_by_weekday  pickup_by_day  dropoff_by_day  pickup_by_hour  \\\n",
       "263                      1        Tuesday         Tuesday              11   \n",
       "327                      5       Saturday        Saturday              13   \n",
       "795                      0         Monday          Monday              16   \n",
       "1176                     0         Monday          Monday              21   \n",
       "1257                     6         Sunday          Sunday              11   \n",
       "...                    ...            ...             ...             ...   \n",
       "728720                   3       Thursday        Thursday              21   \n",
       "728775                   6         Sunday          Sunday              20   \n",
       "728838                   6         Sunday          Sunday               4   \n",
       "729025                   2      Wednesday       Wednesday              18   \n",
       "729308                   2      Wednesday       Wednesday               8   \n",
       "\n",
       "       dropoff_by_hour pickup_part_of_day  dropoff_part_of_day  distance  \\\n",
       "263                 11            Morning              Morning       0.0   \n",
       "327                 13          Afternoon            Afternoon       0.0   \n",
       "795                 17          Afternoon            Afternoon       0.0   \n",
       "1176                21              Night                Night       0.0   \n",
       "1257                12            Morning            Afternoon       0.0   \n",
       "...                ...                ...                  ...       ...   \n",
       "728720              21              Night                Night       0.0   \n",
       "728775              20            Evening              Evening       0.0   \n",
       "728838               4              Night                Night       0.0   \n",
       "729025              18            Evening              Evening       0.0   \n",
       "729308               8            Morning              Morning       0.0   \n",
       "\n",
       "       average_speed  \n",
       "263              0.0  \n",
       "327              0.0  \n",
       "795              0.0  \n",
       "1176             0.0  \n",
       "1257             0.0  \n",
       "...              ...  \n",
       "728720           0.0  \n",
       "728775           0.0  \n",
       "728838           0.0  \n",
       "729025           0.0  \n",
       "729308           0.0  \n",
       "\n",
       "[2901 rows x 23 columns]"
      ]
     },
     "execution_count": 63,
     "metadata": {},
     "output_type": "execute_result"
    }
   ],
   "source": [
    "# Looking at the store_and_forward column for the minium\n",
    "df[df['distance'] == df['distance'].min()]"
   ]
  },
  {
   "cell_type": "markdown",
   "metadata": {},
   "source": [
    "**Observation**: We can see that all of the trips with a distance of zero have the store_and_fwd_flag as No. We need to inspect this observation further."
   ]
  },
  {
   "cell_type": "markdown",
   "metadata": {},
   "source": [
    "### 4.4.6 Univariate Analysis for average_speed"
   ]
  },
  {
   "cell_type": "code",
   "execution_count": 64,
   "metadata": {},
   "outputs": [
    {
     "data": {
      "text/plain": [
       "count    729321.000000\n",
       "mean          8.961097\n",
       "std           7.668368\n",
       "min           0.000000\n",
       "25%           5.669598\n",
       "50%           7.951604\n",
       "75%          11.087719\n",
       "max        3504.845312\n",
       "Name: average_speed, dtype: float64"
      ]
     },
     "execution_count": 64,
     "metadata": {},
     "output_type": "execute_result"
    }
   ],
   "source": [
    "df['average_speed'].describe()"
   ]
  },
  {
   "cell_type": "code",
   "execution_count": 65,
   "metadata": {},
   "outputs": [
    {
     "name": "stdout",
     "output_type": "stream",
     "text": [
      "Mode = 0    0.0\n",
      "dtype: float64\n",
      "Skew = 194.01366329779924\n",
      "Kurtosis = 76874.06048746621\n",
      "Null hypothesis of normality is rejected.\n"
     ]
    },
    {
     "name": "stderr",
     "output_type": "stream",
     "text": [
      "C:\\Users\\65917\\Anaconda3\\lib\\site-packages\\scipy\\stats\\morestats.py:1681: UserWarning: p-value may not be accurate for N > 5000.\n",
      "  warnings.warn(\"p-value may not be accurate for N > 5000.\")\n"
     ]
    }
   ],
   "source": [
    "# Calculating additional statistics\n",
    "add_stat('average_speed')"
   ]
  },
  {
   "cell_type": "code",
   "execution_count": 66,
   "metadata": {},
   "outputs": [
    {
     "data": {
      "text/plain": [
       "0.000000     2901\n",
       "0.316285        7\n",
       "0.158142        4\n",
       "0.094885        4\n",
       "0.189771        3\n",
       "             ... \n",
       "11.101963       1\n",
       "7.273094        1\n",
       "4.586088        1\n",
       "3.572784        1\n",
       "7.127515        1\n",
       "Name: average_speed, Length: 726368, dtype: int64"
      ]
     },
     "execution_count": 66,
     "metadata": {},
     "output_type": "execute_result"
    }
   ],
   "source": [
    "df['average_speed'].value_counts() "
   ]
  },
  {
   "cell_type": "markdown",
   "metadata": {},
   "source": [
    "**Observations** Again we see that 2,901 trips have an average speed of zero. We also see that the max speed is 3504.84 miles per hour, which is not possible. We need to explore both the miniums and maximum to see if they are outliers or errors."
   ]
  },
  {
   "cell_type": "code",
   "execution_count": 67,
   "metadata": {},
   "outputs": [
    {
     "data": {
      "text/html": [
       "<div>\n",
       "<style scoped>\n",
       "    .dataframe tbody tr th:only-of-type {\n",
       "        vertical-align: middle;\n",
       "    }\n",
       "\n",
       "    .dataframe tbody tr th {\n",
       "        vertical-align: top;\n",
       "    }\n",
       "\n",
       "    .dataframe thead th {\n",
       "        text-align: right;\n",
       "    }\n",
       "</style>\n",
       "<table border=\"1\" class=\"dataframe\">\n",
       "  <thead>\n",
       "    <tr style=\"text-align: right;\">\n",
       "      <th></th>\n",
       "      <th>id</th>\n",
       "      <th>vendor_id</th>\n",
       "      <th>pickup_datetime</th>\n",
       "      <th>dropoff_datetime</th>\n",
       "      <th>passenger_count</th>\n",
       "      <th>pickup_longitude</th>\n",
       "      <th>pickup_latitude</th>\n",
       "      <th>dropoff_longitude</th>\n",
       "      <th>dropoff_latitude</th>\n",
       "      <th>store_and_fwd_flag</th>\n",
       "      <th>...</th>\n",
       "      <th>pickup_by_weekday</th>\n",
       "      <th>dropoff_by_weekday</th>\n",
       "      <th>pickup_by_day</th>\n",
       "      <th>dropoff_by_day</th>\n",
       "      <th>pickup_by_hour</th>\n",
       "      <th>dropoff_by_hour</th>\n",
       "      <th>pickup_part_of_day</th>\n",
       "      <th>dropoff_part_of_day</th>\n",
       "      <th>distance</th>\n",
       "      <th>average_speed</th>\n",
       "    </tr>\n",
       "  </thead>\n",
       "  <tbody>\n",
       "    <tr>\n",
       "      <th>244913</th>\n",
       "      <td>id2306955</td>\n",
       "      <td>1</td>\n",
       "      <td>2016-05-07 18:58:53</td>\n",
       "      <td>2016-05-07 19:12:05</td>\n",
       "      <td>1</td>\n",
       "      <td>-72.809669</td>\n",
       "      <td>51.881084</td>\n",
       "      <td>-73.987228</td>\n",
       "      <td>40.750599</td>\n",
       "      <td>N</td>\n",
       "      <td>...</td>\n",
       "      <td>5</td>\n",
       "      <td>5</td>\n",
       "      <td>Saturday</td>\n",
       "      <td>Saturday</td>\n",
       "      <td>18</td>\n",
       "      <td>19</td>\n",
       "      <td>Evening</td>\n",
       "      <td>Evening</td>\n",
       "      <td>771.065969</td>\n",
       "      <td>3504.845312</td>\n",
       "    </tr>\n",
       "  </tbody>\n",
       "</table>\n",
       "<p>1 rows × 23 columns</p>\n",
       "</div>"
      ],
      "text/plain": [
       "               id  vendor_id     pickup_datetime    dropoff_datetime  \\\n",
       "244913  id2306955          1 2016-05-07 18:58:53 2016-05-07 19:12:05   \n",
       "\n",
       "        passenger_count  pickup_longitude  pickup_latitude  dropoff_longitude  \\\n",
       "244913                1        -72.809669        51.881084         -73.987228   \n",
       "\n",
       "        dropoff_latitude store_and_fwd_flag  ...  pickup_by_weekday  \\\n",
       "244913         40.750599                  N  ...                  5   \n",
       "\n",
       "        dropoff_by_weekday  pickup_by_day  dropoff_by_day  pickup_by_hour  \\\n",
       "244913                   5       Saturday        Saturday              18   \n",
       "\n",
       "       dropoff_by_hour pickup_part_of_day  dropoff_part_of_day    distance  \\\n",
       "244913              19            Evening              Evening  771.065969   \n",
       "\n",
       "       average_speed  \n",
       "244913   3504.845312  \n",
       "\n",
       "[1 rows x 23 columns]"
      ]
     },
     "execution_count": 67,
     "metadata": {},
     "output_type": "execute_result"
    }
   ],
   "source": [
    "df[df['average_speed'] == df['average_speed'].max()]"
   ]
  },
  {
   "cell_type": "markdown",
   "metadata": {},
   "source": [
    "**Observations** Again we see some inconsistencies in the max trip. We can see that the trip had a distance of 771 miles but a trip duration of only one hour. We believe this input is an error and most be removed from the dataset."
   ]
  },
  {
   "cell_type": "markdown",
   "metadata": {},
   "source": [
    "### 4.5 Bivariate Analysis"
   ]
  },
  {
   "cell_type": "markdown",
   "metadata": {},
   "source": [
    "In this section we will see the relationship between the target variable and selected features"
   ]
  },
  {
   "cell_type": "code",
   "execution_count": 68,
   "metadata": {},
   "outputs": [
    {
     "data": {
      "text/plain": [
       "<AxesSubplot:xlabel='vendor_id', ylabel='trip_duration'>"
      ]
     },
     "execution_count": 68,
     "metadata": {},
     "output_type": "execute_result"
    },
    {
     "data": {
      "image/png": "[encoded data removed]",
      "text/plain": [
       "<Figure size 432x288 with 1 Axes>"
      ]
     },
     "metadata": {
      "needs_background": "light"
     },
     "output_type": "display_data"
    }
   ],
   "source": [
    "# Trip duration by vendor id\n",
    "sns.barplot(x='vendor_id', y='trip_duration', data=df)"
   ]
  },
  {
   "cell_type": "code",
   "execution_count": 69,
   "metadata": {},
   "outputs": [
    {
     "data": {
      "text/plain": [
       "<AxesSubplot:xlabel='passenger_count', ylabel='trip_duration'>"
      ]
     },
     "execution_count": 69,
     "metadata": {},
     "output_type": "execute_result"
    },
    {
     "data": {
      "image/png": "[encoded data removed]",
      "text/plain": [
       "<Figure size 432x288 with 1 Axes>"
      ]
     },
     "metadata": {
      "needs_background": "light"
     },
     "output_type": "display_data"
    }
   ],
   "source": [
    "# Trip duration per passanger count\n",
    "sns.barplot(x='passenger_count',y='trip_duration', data=df)"
   ]
  },
  {
   "cell_type": "code",
   "execution_count": 70,
   "metadata": {},
   "outputs": [
    {
     "data": {
      "text/plain": [
       "<AxesSubplot:xlabel='pickup_by_day', ylabel='trip_duration'>"
      ]
     },
     "execution_count": 70,
     "metadata": {},
     "output_type": "execute_result"
    },
    {
     "data": {
      "image/png": "[encoded data removed]",
      "text/plain": [
       "<Figure size 432x288 with 1 Axes>"
      ]
     },
     "metadata": {
      "needs_background": "light"
     },
     "output_type": "display_data"
    }
   ],
   "source": [
    "# Trip Duration by Day of the Week\n",
    "sns.barplot(x=\"pickup_by_day\", y='trip_duration', data=df)"
   ]
  },
  {
   "cell_type": "code",
   "execution_count": 71,
   "metadata": {},
   "outputs": [
    {
     "data": {
      "text/plain": [
       "<AxesSubplot:xlabel='pickup_part_of_day', ylabel='trip_duration'>"
      ]
     },
     "execution_count": 71,
     "metadata": {},
     "output_type": "execute_result"
    },
    {
     "data": {
      "image/png": "[encoded data removed]",
      "text/plain": [
       "<Figure size 432x288 with 1 Axes>"
      ]
     },
     "metadata": {
      "needs_background": "light"
     },
     "output_type": "display_data"
    }
   ],
   "source": [
    "# Trip Duration by Day of the Week\n",
    "sns.barplot(x=\"pickup_part_of_day\", y='trip_duration', data=df)"
   ]
  },
  {
   "cell_type": "code",
   "execution_count": 72,
   "metadata": {},
   "outputs": [
    {
     "data": {
      "text/plain": [
       "<AxesSubplot:xlabel='pickup_by_day', ylabel='average_speed'>"
      ]
     },
     "execution_count": 72,
     "metadata": {},
     "output_type": "execute_result"
    },
    {
     "data": {
      "image/png": "[encoded data removed]",
      "text/plain": [
       "<Figure size 432x288 with 1 Axes>"
      ]
     },
     "metadata": {
      "needs_background": "light"
     },
     "output_type": "display_data"
    }
   ],
   "source": [
    "# Average Speed (Miles per Hour) by Day\n",
    "sns.barplot(x=\"pickup_by_day\", y='average_speed', data=df)"
   ]
  },
  {
   "cell_type": "code",
   "execution_count": 73,
   "metadata": {},
   "outputs": [
    {
     "data": {
      "text/plain": [
       "<AxesSubplot:xlabel='pickup_part_of_day', ylabel='trip_duration'>"
      ]
     },
     "execution_count": 73,
     "metadata": {},
     "output_type": "execute_result"
    },
    {
     "data": {
      "image/png": "[encoded data removed]",
      "text/plain": [
       "<Figure size 432x288 with 1 Axes>"
      ]
     },
     "metadata": {
      "needs_background": "light"
     },
     "output_type": "display_data"
    }
   ],
   "source": [
    "# Trip Duration by Day of the Week\n",
    "sns.barplot(x=\"pickup_part_of_day\", y='trip_duration', data=df)"
   ]
  },
  {
   "cell_type": "code",
   "execution_count": 74,
   "metadata": {},
   "outputs": [
    {
     "data": {
      "text/plain": [
       "<AxesSubplot:xlabel='pickup_by_hour', ylabel='trip_duration'>"
      ]
     },
     "execution_count": 74,
     "metadata": {},
     "output_type": "execute_result"
    },
    {
     "data": {
      "image/png": "[encoded data removed]",
      "text/plain": [
       "<Figure size 432x288 with 1 Axes>"
      ]
     },
     "metadata": {
      "needs_background": "light"
     },
     "output_type": "display_data"
    }
   ],
   "source": [
    "# Trip Duration per hour\n",
    "sns.lineplot(x='pickup_by_hour', y='trip_duration', data=df)"
   ]
  },
  {
   "cell_type": "markdown",
   "metadata": {},
   "source": [
    "**Observation**: We can see that the afternoon is the busiest time of the day. Most of the demand starts between 2:00 pm and 3:30 pm. Each trip last on average around 16.67 minutes."
   ]
  },
  {
   "cell_type": "markdown",
   "metadata": {},
   "source": [
    "### 4.6 Multivariate Analysis \n",
    "\n",
    "For this section we will calcualte the correlation of feature and we will visualize it using a heat map."
   ]
  },
  {
   "cell_type": "code",
   "execution_count": 75,
   "metadata": {},
   "outputs": [],
   "source": [
    "# Calculating the correlation\n",
    "corr =df.corr()"
   ]
  },
  {
   "cell_type": "code",
   "execution_count": 78,
   "metadata": {},
   "outputs": [
    {
     "data": {
      "text/html": [
       "<div>\n",
       "<style scoped>\n",
       "    .dataframe tbody tr th:only-of-type {\n",
       "        vertical-align: middle;\n",
       "    }\n",
       "\n",
       "    .dataframe tbody tr th {\n",
       "        vertical-align: top;\n",
       "    }\n",
       "\n",
       "    .dataframe thead th {\n",
       "        text-align: right;\n",
       "    }\n",
       "</style>\n",
       "<table border=\"1\" class=\"dataframe\">\n",
       "  <thead>\n",
       "    <tr style=\"text-align: right;\">\n",
       "      <th></th>\n",
       "      <th>vendor_id</th>\n",
       "      <th>passenger_count</th>\n",
       "      <th>pickup_longitude</th>\n",
       "      <th>pickup_latitude</th>\n",
       "      <th>dropoff_longitude</th>\n",
       "      <th>dropoff_latitude</th>\n",
       "      <th>trip_duration</th>\n",
       "      <th>pickup_by_month</th>\n",
       "      <th>dropoff_by_month</th>\n",
       "      <th>pickup_by_weekday</th>\n",
       "      <th>dropoff_by_weekday</th>\n",
       "      <th>pickup_by_hour</th>\n",
       "      <th>dropoff_by_hour</th>\n",
       "      <th>distance</th>\n",
       "      <th>average_speed</th>\n",
       "    </tr>\n",
       "  </thead>\n",
       "  <tbody>\n",
       "    <tr>\n",
       "      <th>vendor_id</th>\n",
       "      <td>1.000000</td>\n",
       "      <td>0.286462</td>\n",
       "      <td>0.008202</td>\n",
       "      <td>0.002857</td>\n",
       "      <td>0.002371</td>\n",
       "      <td>0.005260</td>\n",
       "      <td>0.035205</td>\n",
       "      <td>-0.005365</td>\n",
       "      <td>-0.005338</td>\n",
       "      <td>0.000786</td>\n",
       "      <td>0.000899</td>\n",
       "      <td>0.009769</td>\n",
       "      <td>0.009701</td>\n",
       "      <td>0.006516</td>\n",
       "      <td>0.001307</td>\n",
       "    </tr>\n",
       "    <tr>\n",
       "      <th>passenger_count</th>\n",
       "      <td>0.286462</td>\n",
       "      <td>1.000000</td>\n",
       "      <td>0.001164</td>\n",
       "      <td>-0.004698</td>\n",
       "      <td>-0.000027</td>\n",
       "      <td>-0.003944</td>\n",
       "      <td>0.016520</td>\n",
       "      <td>-0.001482</td>\n",
       "      <td>-0.001498</td>\n",
       "      <td>0.025757</td>\n",
       "      <td>0.025940</td>\n",
       "      <td>0.009849</td>\n",
       "      <td>0.009214</td>\n",
       "      <td>0.009178</td>\n",
       "      <td>-0.002637</td>\n",
       "    </tr>\n",
       "    <tr>\n",
       "      <th>pickup_longitude</th>\n",
       "      <td>0.008202</td>\n",
       "      <td>0.001164</td>\n",
       "      <td>1.000000</td>\n",
       "      <td>0.047648</td>\n",
       "      <td>0.780649</td>\n",
       "      <td>0.118472</td>\n",
       "      <td>0.041561</td>\n",
       "      <td>0.004043</td>\n",
       "      <td>0.004096</td>\n",
       "      <td>-0.016027</td>\n",
       "      <td>-0.016844</td>\n",
       "      <td>0.010762</td>\n",
       "      <td>0.011172</td>\n",
       "      <td>0.251472</td>\n",
       "      <td>0.095279</td>\n",
       "    </tr>\n",
       "    <tr>\n",
       "      <th>pickup_latitude</th>\n",
       "      <td>0.002857</td>\n",
       "      <td>-0.004698</td>\n",
       "      <td>0.047648</td>\n",
       "      <td>1.000000</td>\n",
       "      <td>0.119972</td>\n",
       "      <td>0.479358</td>\n",
       "      <td>-0.044442</td>\n",
       "      <td>-0.000172</td>\n",
       "      <td>-0.000240</td>\n",
       "      <td>-0.029078</td>\n",
       "      <td>-0.029257</td>\n",
       "      <td>0.011424</td>\n",
       "      <td>0.018059</td>\n",
       "      <td>-0.128440</td>\n",
       "      <td>0.116820</td>\n",
       "    </tr>\n",
       "    <tr>\n",
       "      <th>dropoff_longitude</th>\n",
       "      <td>0.002371</td>\n",
       "      <td>-0.000027</td>\n",
       "      <td>0.780649</td>\n",
       "      <td>0.119972</td>\n",
       "      <td>1.000000</td>\n",
       "      <td>0.149598</td>\n",
       "      <td>0.025331</td>\n",
       "      <td>0.003884</td>\n",
       "      <td>0.003923</td>\n",
       "      <td>-0.001472</td>\n",
       "      <td>-0.001396</td>\n",
       "      <td>-0.022014</td>\n",
       "      <td>-0.023193</td>\n",
       "      <td>0.132353</td>\n",
       "      <td>0.045955</td>\n",
       "    </tr>\n",
       "    <tr>\n",
       "      <th>dropoff_latitude</th>\n",
       "      <td>0.005260</td>\n",
       "      <td>-0.003944</td>\n",
       "      <td>0.118472</td>\n",
       "      <td>0.479358</td>\n",
       "      <td>0.149598</td>\n",
       "      <td>1.000000</td>\n",
       "      <td>-0.035451</td>\n",
       "      <td>-0.000579</td>\n",
       "      <td>-0.000620</td>\n",
       "      <td>-0.022027</td>\n",
       "      <td>-0.022396</td>\n",
       "      <td>0.014259</td>\n",
       "      <td>0.018173</td>\n",
       "      <td>-0.153765</td>\n",
       "      <td>-0.054264</td>\n",
       "    </tr>\n",
       "    <tr>\n",
       "      <th>trip_duration</th>\n",
       "      <td>0.035205</td>\n",
       "      <td>0.016520</td>\n",
       "      <td>0.041561</td>\n",
       "      <td>-0.044442</td>\n",
       "      <td>0.025331</td>\n",
       "      <td>-0.035451</td>\n",
       "      <td>1.000000</td>\n",
       "      <td>0.012861</td>\n",
       "      <td>0.013798</td>\n",
       "      <td>-0.001954</td>\n",
       "      <td>-0.003706</td>\n",
       "      <td>0.005488</td>\n",
       "      <td>0.004082</td>\n",
       "      <td>0.152153</td>\n",
       "      <td>-0.033842</td>\n",
       "    </tr>\n",
       "    <tr>\n",
       "      <th>pickup_by_month</th>\n",
       "      <td>-0.005365</td>\n",
       "      <td>-0.001482</td>\n",
       "      <td>0.004043</td>\n",
       "      <td>-0.000172</td>\n",
       "      <td>0.003884</td>\n",
       "      <td>-0.000579</td>\n",
       "      <td>0.012861</td>\n",
       "      <td>1.000000</td>\n",
       "      <td>0.999937</td>\n",
       "      <td>-0.013628</td>\n",
       "      <td>-0.013321</td>\n",
       "      <td>-0.003305</td>\n",
       "      <td>-0.004014</td>\n",
       "      <td>0.016589</td>\n",
       "      <td>-0.016811</td>\n",
       "    </tr>\n",
       "    <tr>\n",
       "      <th>dropoff_by_month</th>\n",
       "      <td>-0.005338</td>\n",
       "      <td>-0.001498</td>\n",
       "      <td>0.004096</td>\n",
       "      <td>-0.000240</td>\n",
       "      <td>0.003923</td>\n",
       "      <td>-0.000620</td>\n",
       "      <td>0.013798</td>\n",
       "      <td>0.999937</td>\n",
       "      <td>1.000000</td>\n",
       "      <td>-0.013607</td>\n",
       "      <td>-0.013269</td>\n",
       "      <td>-0.003048</td>\n",
       "      <td>-0.004386</td>\n",
       "      <td>0.016767</td>\n",
       "      <td>-0.016785</td>\n",
       "    </tr>\n",
       "    <tr>\n",
       "      <th>pickup_by_weekday</th>\n",
       "      <td>0.000786</td>\n",
       "      <td>0.025757</td>\n",
       "      <td>-0.016027</td>\n",
       "      <td>-0.029078</td>\n",
       "      <td>-0.001472</td>\n",
       "      <td>-0.022027</td>\n",
       "      <td>-0.001954</td>\n",
       "      <td>-0.013628</td>\n",
       "      <td>-0.013607</td>\n",
       "      <td>1.000000</td>\n",
       "      <td>0.993790</td>\n",
       "      <td>-0.082082</td>\n",
       "      <td>-0.085767</td>\n",
       "      <td>0.007792</td>\n",
       "      <td>0.044303</td>\n",
       "    </tr>\n",
       "    <tr>\n",
       "      <th>dropoff_by_weekday</th>\n",
       "      <td>0.000899</td>\n",
       "      <td>0.025940</td>\n",
       "      <td>-0.016844</td>\n",
       "      <td>-0.029257</td>\n",
       "      <td>-0.001396</td>\n",
       "      <td>-0.022396</td>\n",
       "      <td>-0.003706</td>\n",
       "      <td>-0.013321</td>\n",
       "      <td>-0.013269</td>\n",
       "      <td>0.993790</td>\n",
       "      <td>1.000000</td>\n",
       "      <td>-0.078779</td>\n",
       "      <td>-0.089877</td>\n",
       "      <td>0.008230</td>\n",
       "      <td>0.043575</td>\n",
       "    </tr>\n",
       "    <tr>\n",
       "      <th>pickup_by_hour</th>\n",
       "      <td>0.009769</td>\n",
       "      <td>0.009849</td>\n",
       "      <td>0.010762</td>\n",
       "      <td>0.011424</td>\n",
       "      <td>-0.022014</td>\n",
       "      <td>0.014259</td>\n",
       "      <td>0.005488</td>\n",
       "      <td>-0.003305</td>\n",
       "      <td>-0.003048</td>\n",
       "      <td>-0.082082</td>\n",
       "      <td>-0.078779</td>\n",
       "      <td>1.000000</td>\n",
       "      <td>0.934592</td>\n",
       "      <td>-0.016258</td>\n",
       "      <td>-0.064611</td>\n",
       "    </tr>\n",
       "    <tr>\n",
       "      <th>dropoff_by_hour</th>\n",
       "      <td>0.009701</td>\n",
       "      <td>0.009214</td>\n",
       "      <td>0.011172</td>\n",
       "      <td>0.018059</td>\n",
       "      <td>-0.023193</td>\n",
       "      <td>0.018173</td>\n",
       "      <td>0.004082</td>\n",
       "      <td>-0.004014</td>\n",
       "      <td>-0.004386</td>\n",
       "      <td>-0.085767</td>\n",
       "      <td>-0.089877</td>\n",
       "      <td>0.934592</td>\n",
       "      <td>1.000000</td>\n",
       "      <td>-0.020932</td>\n",
       "      <td>-0.072875</td>\n",
       "    </tr>\n",
       "    <tr>\n",
       "      <th>distance</th>\n",
       "      <td>0.006516</td>\n",
       "      <td>0.009178</td>\n",
       "      <td>0.251472</td>\n",
       "      <td>-0.128440</td>\n",
       "      <td>0.132353</td>\n",
       "      <td>-0.153765</td>\n",
       "      <td>0.152153</td>\n",
       "      <td>0.016589</td>\n",
       "      <td>0.016767</td>\n",
       "      <td>0.007792</td>\n",
       "      <td>0.008230</td>\n",
       "      <td>-0.016258</td>\n",
       "      <td>-0.020932</td>\n",
       "      <td>1.000000</td>\n",
       "      <td>0.575085</td>\n",
       "    </tr>\n",
       "    <tr>\n",
       "      <th>average_speed</th>\n",
       "      <td>0.001307</td>\n",
       "      <td>-0.002637</td>\n",
       "      <td>0.095279</td>\n",
       "      <td>0.116820</td>\n",
       "      <td>0.045955</td>\n",
       "      <td>-0.054264</td>\n",
       "      <td>-0.033842</td>\n",
       "      <td>-0.016811</td>\n",
       "      <td>-0.016785</td>\n",
       "      <td>0.044303</td>\n",
       "      <td>0.043575</td>\n",
       "      <td>-0.064611</td>\n",
       "      <td>-0.072875</td>\n",
       "      <td>0.575085</td>\n",
       "      <td>1.000000</td>\n",
       "    </tr>\n",
       "  </tbody>\n",
       "</table>\n",
       "</div>"
      ],
      "text/plain": [
       "                    vendor_id  passenger_count  pickup_longitude  \\\n",
       "vendor_id            1.000000         0.286462          0.008202   \n",
       "passenger_count      0.286462         1.000000          0.001164   \n",
       "pickup_longitude     0.008202         0.001164          1.000000   \n",
       "pickup_latitude      0.002857        -0.004698          0.047648   \n",
       "dropoff_longitude    0.002371        -0.000027          0.780649   \n",
       "dropoff_latitude     0.005260        -0.003944          0.118472   \n",
       "trip_duration        0.035205         0.016520          0.041561   \n",
       "pickup_by_month     -0.005365        -0.001482          0.004043   \n",
       "dropoff_by_month    -0.005338        -0.001498          0.004096   \n",
       "pickup_by_weekday    0.000786         0.025757         -0.016027   \n",
       "dropoff_by_weekday   0.000899         0.025940         -0.016844   \n",
       "pickup_by_hour       0.009769         0.009849          0.010762   \n",
       "dropoff_by_hour      0.009701         0.009214          0.011172   \n",
       "distance             0.006516         0.009178          0.251472   \n",
       "average_speed        0.001307        -0.002637          0.095279   \n",
       "\n",
       "                    pickup_latitude  dropoff_longitude  dropoff_latitude  \\\n",
       "vendor_id                  0.002857           0.002371          0.005260   \n",
       "passenger_count           -0.004698          -0.000027         -0.003944   \n",
       "pickup_longitude           0.047648           0.780649          0.118472   \n",
       "pickup_latitude            1.000000           0.119972          0.479358   \n",
       "dropoff_longitude          0.119972           1.000000          0.149598   \n",
       "dropoff_latitude           0.479358           0.149598          1.000000   \n",
       "trip_duration             -0.044442           0.025331         -0.035451   \n",
       "pickup_by_month           -0.000172           0.003884         -0.000579   \n",
       "dropoff_by_month          -0.000240           0.003923         -0.000620   \n",
       "pickup_by_weekday         -0.029078          -0.001472         -0.022027   \n",
       "dropoff_by_weekday        -0.029257          -0.001396         -0.022396   \n",
       "pickup_by_hour             0.011424          -0.022014          0.014259   \n",
       "dropoff_by_hour            0.018059          -0.023193          0.018173   \n",
       "distance                  -0.128440           0.132353         -0.153765   \n",
       "average_speed              0.116820           0.045955         -0.054264   \n",
       "\n",
       "                    trip_duration  pickup_by_month  dropoff_by_month  \\\n",
       "vendor_id                0.035205        -0.005365         -0.005338   \n",
       "passenger_count          0.016520        -0.001482         -0.001498   \n",
       "pickup_longitude         0.041561         0.004043          0.004096   \n",
       "pickup_latitude         -0.044442        -0.000172         -0.000240   \n",
       "dropoff_longitude        0.025331         0.003884          0.003923   \n",
       "dropoff_latitude        -0.035451        -0.000579         -0.000620   \n",
       "trip_duration            1.000000         0.012861          0.013798   \n",
       "pickup_by_month          0.012861         1.000000          0.999937   \n",
       "dropoff_by_month         0.013798         0.999937          1.000000   \n",
       "pickup_by_weekday       -0.001954        -0.013628         -0.013607   \n",
       "dropoff_by_weekday      -0.003706        -0.013321         -0.013269   \n",
       "pickup_by_hour           0.005488        -0.003305         -0.003048   \n",
       "dropoff_by_hour          0.004082        -0.004014         -0.004386   \n",
       "distance                 0.152153         0.016589          0.016767   \n",
       "average_speed           -0.033842        -0.016811         -0.016785   \n",
       "\n",
       "                    pickup_by_weekday  dropoff_by_weekday  pickup_by_hour  \\\n",
       "vendor_id                    0.000786            0.000899        0.009769   \n",
       "passenger_count              0.025757            0.025940        0.009849   \n",
       "pickup_longitude            -0.016027           -0.016844        0.010762   \n",
       "pickup_latitude             -0.029078           -0.029257        0.011424   \n",
       "dropoff_longitude           -0.001472           -0.001396       -0.022014   \n",
       "dropoff_latitude            -0.022027           -0.022396        0.014259   \n",
       "trip_duration               -0.001954           -0.003706        0.005488   \n",
       "pickup_by_month             -0.013628           -0.013321       -0.003305   \n",
       "dropoff_by_month            -0.013607           -0.013269       -0.003048   \n",
       "pickup_by_weekday            1.000000            0.993790       -0.082082   \n",
       "dropoff_by_weekday           0.993790            1.000000       -0.078779   \n",
       "pickup_by_hour              -0.082082           -0.078779        1.000000   \n",
       "dropoff_by_hour             -0.085767           -0.089877        0.934592   \n",
       "distance                     0.007792            0.008230       -0.016258   \n",
       "average_speed                0.044303            0.043575       -0.064611   \n",
       "\n",
       "                    dropoff_by_hour  distance  average_speed  \n",
       "vendor_id                  0.009701  0.006516       0.001307  \n",
       "passenger_count            0.009214  0.009178      -0.002637  \n",
       "pickup_longitude           0.011172  0.251472       0.095279  \n",
       "pickup_latitude            0.018059 -0.128440       0.116820  \n",
       "dropoff_longitude         -0.023193  0.132353       0.045955  \n",
       "dropoff_latitude           0.018173 -0.153765      -0.054264  \n",
       "trip_duration              0.004082  0.152153      -0.033842  \n",
       "pickup_by_month           -0.004014  0.016589      -0.016811  \n",
       "dropoff_by_month          -0.004386  0.016767      -0.016785  \n",
       "pickup_by_weekday         -0.085767  0.007792       0.044303  \n",
       "dropoff_by_weekday        -0.089877  0.008230       0.043575  \n",
       "pickup_by_hour             0.934592 -0.016258      -0.064611  \n",
       "dropoff_by_hour            1.000000 -0.020932      -0.072875  \n",
       "distance                  -0.020932  1.000000       0.575085  \n",
       "average_speed             -0.072875  0.575085       1.000000  "
      ]
     },
     "execution_count": 78,
     "metadata": {},
     "output_type": "execute_result"
    }
   ],
   "source": [
    "corr"
   ]
  },
  {
   "cell_type": "code",
   "execution_count": 79,
   "metadata": {},
   "outputs": [
    {
     "data": {
      "text/plain": [
       "<AxesSubplot:>"
      ]
     },
     "execution_count": 79,
     "metadata": {},
     "output_type": "execute_result"
    },
    {
     "data": {
      "image/png": "[encoded data removed]",
      "text/plain": [
       "<Figure size 432x288 with 2 Axes>"
      ]
     },
     "metadata": {
      "needs_background": "light"
     },
     "output_type": "display_data"
    }
   ],
   "source": [
    "# Visualizing the relationship based on correlation\n",
    "sns.heatmap(corr)"
   ]
  }
 ],
 "metadata": {
  "kernelspec": {
   "display_name": "Python 3",
   "language": "python",
   "name": "python3"
  },
  "language_info": {
   "codemirror_mode": {
    "name": "ipython",
    "version": 3
   },
   "file_extension": ".py",
   "mimetype": "text/x-python",
   "name": "python",
   "nbconvert_exporter": "python",
   "pygments_lexer": "ipython3",
   "version": "3.8.3"
  }
 },
 "nbformat": 4,
 "nbformat_minor": 4
}
